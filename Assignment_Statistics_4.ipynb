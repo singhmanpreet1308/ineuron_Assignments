{
 "cells": [
  {
   "attachments": {
    "image.png": {
     "image/png": "[encoded data removed]"
    }
   },
   "cell_type": "markdown",
   "metadata": {},
   "source": [
    "### Problem 1:\n",
    "Is gender independent of education level? A random sample of 395 people were\n",
    "surveyed and each person was asked to report the highest education level they\n",
    "obtained. The data that resulted from the survey is summarized in the following table:\n",
    "![image.png](attachment:image.png)\n",
    "\n",
    "\n",
    "\n",
    "\n",
    "\n",
    "Question: Are gender and education level dependent at 5% level of significance? In\n",
    "other words, given the data collected above, is there a relationship between the\n",
    "gender of an individual and the level of education that they have obtained?\n"
   ]
  },
  {
   "attachments": {},
   "cell_type": "markdown",
   "metadata": {},
   "source": [
    "### Solution: "
   ]
  },
  {
   "cell_type": "code",
   "execution_count": 1,
   "metadata": {},
   "outputs": [
    {
     "data": {
      "text/plain": [
       "array([[60, 54, 46, 41],\n",
       "       [40, 44, 53, 57]])"
      ]
     },
     "execution_count": 1,
     "metadata": {},
     "output_type": "execute_result"
    }
   ],
   "source": [
    "import numpy as np\n",
    "import scipy.stats as sts\n",
    "from scipy.stats import chi2_contingency \n",
    "\n",
    "a1 = [60,54,46,41]\n",
    "a2 = [40,44,53,57]\n",
    "result = np.array([a1,a2])\n",
    "result"
   ]
  },
  {
   "cell_type": "code",
   "execution_count": 2,
   "metadata": {},
   "outputs": [
    {
     "data": {
      "text/plain": [
       "(8.006066246262538,\n",
       " 0.045886500891747214,\n",
       " 3,\n",
       " array([[50.88607595, 49.86835443, 50.37721519, 49.86835443],\n",
       "        [49.11392405, 48.13164557, 48.62278481, 48.13164557]]))"
      ]
     },
     "execution_count": 2,
     "metadata": {},
     "output_type": "execute_result"
    }
   ],
   "source": [
    "sts.chi2_contingency(result)"
   ]
  },
  {
   "cell_type": "code",
   "execution_count": 3,
   "metadata": {},
   "outputs": [
    {
     "name": "stdout",
     "output_type": "stream",
     "text": [
      "===Chi2 Stat===\n",
      "8.006066246262538\n",
      "\n",
      "\n",
      "===Degrees of Freedom===\n",
      "3\n",
      "\n",
      "\n",
      "===P-Value===\n",
      "0.045886500891747214\n",
      "\n",
      "\n",
      "===Contingency Table===\n",
      "[[50.88607595 49.86835443 50.37721519 49.86835443]\n",
      " [49.11392405 48.13164557 48.62278481 48.13164557]]\n"
     ]
    }
   ],
   "source": [
    "chi2_stat, p_val, dof, ex = sts.chi2_contingency(result)\n",
    "print(\"===Chi2 Stat===\")\n",
    "print(chi2_stat)\n",
    "print(\"\\n\")\n",
    "print(\"===Degrees of Freedom===\")\n",
    "print(dof)\n",
    "print(\"\\n\")\n",
    "print(\"===P-Value===\")\n",
    "print(p_val)\n",
    "print(\"\\n\")\n",
    "print(\"===Contingency Table===\")\n",
    "print(ex)"
   ]
  },
  {
   "cell_type": "code",
   "execution_count": 4,
   "metadata": {},
   "outputs": [
    {
     "name": "stdout",
     "output_type": "stream",
     "text": [
      "value of 0.05 in chi-table :  7.814727903251179\n"
     ]
    }
   ],
   "source": [
    "# Given significance-level(α)=0.05 and df(degree of freedom)=n-1 that is 4-1=>3\n",
    "print(\"value of 0.05 in chi-table : \",sts.chi2.ppf(0.95,3))"
   ]
  },
  {
   "cell_type": "markdown",
   "metadata": {},
   "source": [
    "Conclusion: Value of chi2_stats is 8.006 comes under critical region of Chi-Square for a 0.05 significance level and 3 d.f. is 7.814. we reject the null hypothesis and conclude that the education level depends on gender at a 5% level of significance."
   ]
  },
  {
   "cell_type": "markdown",
   "metadata": {},
   "source": [
    "### Problem 2:\n",
    "Using the following data, perform a oneway analysis of variance using α=.05. Write\n",
    "up the results in APA format.\n",
    "\n",
    "[Group1: 51, 45, 33, 45, 67]\n",
    "\n",
    "[Group2: 23, 43, 23, 43, 45]\n",
    "\n",
    "[Group3: 56, 76, 74, 87, 56]"
   ]
  },
  {
   "attachments": {},
   "cell_type": "markdown",
   "metadata": {},
   "source": [
    "#### Solution:"
   ]
  },
  {
   "cell_type": "code",
   "execution_count": 5,
   "metadata": {},
   "outputs": [
    {
     "name": "stdout",
     "output_type": "stream",
     "text": [
      "Mean of Group1:  48.2\n",
      "Mean of Group2:  35.4\n",
      "Mean of Group3:  69.8\n"
     ]
    }
   ],
   "source": [
    "Group1 = [51, 45, 33, 45, 67]\n",
    "Group2 = [23, 43, 23, 43, 45]\n",
    "Group3= [56, 76, 74, 87, 56]\n",
    "print(\"Mean of Group1: \",np.mean(Group1))\n",
    "print(\"Mean of Group2: \",np.mean(Group2))\n",
    "print(\"Mean of Group3: \",np.mean(Group3))\n",
    "      "
   ]
  },
  {
   "cell_type": "code",
   "execution_count": 6,
   "metadata": {},
   "outputs": [
    {
     "data": {
      "text/plain": [
       "F_onewayResult(statistic=9.747205503009463, pvalue=0.0030597541434430556)"
      ]
     },
     "execution_count": 6,
     "metadata": {},
     "output_type": "execute_result"
    }
   ],
   "source": [
    "from scipy.stats import f_oneway\n",
    "f_oneway(Group1,Group2,Group3)"
   ]
  },
  {
   "cell_type": "code",
   "execution_count": 7,
   "metadata": {},
   "outputs": [
    {
     "name": "stdout",
     "output_type": "stream",
     "text": [
      "value of 0.05 in F-table:  3.8852938346523933\n"
     ]
    }
   ],
   "source": [
    "# Given significance-level(α)=0.05 and df1(degree of freedom1)=n-1 that is 3-1=>2 and df2(degree of freedom2)=(3*5)-3=>12\n",
    "print(\"value of 0.05 in F-table: \",sts.f.ppf(0.95,2,12))"
   ]
  },
  {
   "cell_type": "markdown",
   "metadata": {},
   "source": [
    "Conclusion: Our F-test value that is 9.747 lies in the critical region of F-distribution for a 0.05 significance level 3.88,So we reject the null hypothesis."
   ]
  },
  {
   "cell_type": "markdown",
   "metadata": {},
   "source": [
    "### Problem 3: \n",
    "Calculate F Test for given 10, 20, 30, 40, 50 and 5,10,15, 20, 25.\n",
    "\n",
    "For 10, 20, 30, 40, 50:\n",
    "\n",
    "#### Solution"
   ]
  },
  {
   "cell_type": "code",
   "execution_count": 8,
   "metadata": {},
   "outputs": [
    {
     "name": "stdout",
     "output_type": "stream",
     "text": [
      "Mean of set1: 30.0\n",
      "Standard deviation of set1: 14.142135623730951\n",
      "Variance of set1: 200.0\n"
     ]
    }
   ],
   "source": [
    "set_1= [10,20,30,40,50]\n",
    "set_2=[5,10,15,20,25]\n",
    "print(\"Mean of set1:\",np.mean(set_1))\n",
    "print(\"Standard deviation of set1:\",np.std(set_1))\n",
    "print(\"Variance of set1:\",np.var(set_1))"
   ]
  },
  {
   "cell_type": "code",
   "execution_count": 9,
   "metadata": {},
   "outputs": [
    {
     "name": "stdout",
     "output_type": "stream",
     "text": [
      "Mean of set2: 15.0\n",
      "Standard deviation of set2: 7.0710678118654755\n",
      "Variance of set2: 50.0\n"
     ]
    }
   ],
   "source": [
    "print(\"Mean of set2:\",np.mean(set_2))\n",
    "print(\"Standard deviation of set2:\",np.std(set_2))\n",
    "print(\"Variance of set2:\",np.var(set_2))"
   ]
  },
  {
   "cell_type": "code",
   "execution_count": 10,
   "metadata": {},
   "outputs": [
    {
     "name": "stdout",
     "output_type": "stream",
     "text": [
      "value of F_test:  4.0\n"
     ]
    }
   ],
   "source": [
    "F_test = np.var(set_1) / np.var(set_2)\n",
    "print(\"value of F_test: \",F_test)"
   ]
  },
  {
   "cell_type": "code",
   "execution_count": null,
   "metadata": {},
   "outputs": [],
   "source": []
  }
 ],
 "metadata": {
  "kernelspec": {
   "display_name": "Python 3",
   "language": "python",
   "name": "python3"
  },
  "language_info": {
   "codemirror_mode": {
    "name": "ipython",
    "version": 3
   },
   "file_extension": ".py",
   "mimetype": "text/x-python",
   "name": "python",
   "nbconvert_exporter": "python",
   "pygments_lexer": "ipython3",
   "version": "3.8.3"
  }
 },
 "nbformat": 4,
 "nbformat_minor": 4
}
