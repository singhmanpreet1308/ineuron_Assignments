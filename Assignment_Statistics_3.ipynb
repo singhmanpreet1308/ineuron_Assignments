{
 "cells": [
  {
   "cell_type": "markdown",
   "metadata": {},
   "source": [
    "### Problem 1:\n",
    "Blood glucose levels for obese patients have a mean of 100 with a standard deviation of15. A researcher thinks that a diet high in raw cornstarch will have a positive effect on\n",
    "blood glucose levels. A sample of 36 patients who have tried the raw cornstarch diet\n",
    "have a mean glucose level of 108. Test the hypothesis that the raw cornstarch had an\n",
    "effect or not.\n",
    "\n",
    "#### Solution: \n",
    "\tH0 : μ=100 (null-hypothesis)\n",
    "    H1 : μ≠100 (alternative-hypothesis)\n",
    "    \n",
    "    Population standard deviation is known and the sample is large(≥30), thus, normal distribution is used.\n",
    "    Assume 95% confidence level"
   ]
  },
  {
   "cell_type": "code",
   "execution_count": 1,
   "metadata": {},
   "outputs": [
    {
     "name": "stdout",
     "output_type": "stream",
     "text": [
      "Standard error is :  2.5\n"
     ]
    }
   ],
   "source": [
    "import numpy as np\n",
    "import scipy.stats as sts\n",
    "n=36\n",
    "sigma = 15\n",
    "\n",
    "Standard_error = sigma / np.sqrt(36)\n",
    "print(\"Standard error is : \",Standard_error)"
   ]
  },
  {
   "cell_type": "code",
   "execution_count": 2,
   "metadata": {},
   "outputs": [
    {
     "name": "stdout",
     "output_type": "stream",
     "text": [
      "Value of z_test is :  3.2\n"
     ]
    }
   ],
   "source": [
    "x̅ = 108\n",
    "𝜇 = 100\n",
    "\n",
    "z_test = (x̅ - 𝜇)/ Standard_error\n",
    "print(\"Value of z_test is : \",z_test)"
   ]
  },
  {
   "cell_type": "code",
   "execution_count": 3,
   "metadata": {},
   "outputs": [
    {
     "name": "stdout",
     "output_type": "stream",
     "text": [
      "Value of -0.025 in z-table: -1.9599639845400545\n",
      "Value of +0.025 in z-table: 1.959963984540054\n"
     ]
    }
   ],
   "source": [
    "## We do two tail-test test to check both the sides, significance-level(α)=0.05\n",
    "print(\"Value of -0.025 in z-table:\",sts.norm.ppf(0.025))\n",
    "print(\"Value of +0.025 in z-table:\",sts.norm.ppf(1-0.025))"
   ]
  },
  {
   "cell_type": "markdown",
   "metadata": {},
   "source": [
    "Conclusion: Since the calculated statistic 3.2 is greater than the critical value, 1.96, we reject the null hypothesis and conclude that the raw cornstarch had an effect on blood glucose level."
   ]
  },
  {
   "cell_type": "markdown",
   "metadata": {},
   "source": [
    "### Problem 2:\n",
    "In one state, 52% of the voters are Republicans, and 48% are Democrats. In a second\n",
    "state, 47% of the voters are Republicans, and 53% are Democrats. Suppose a simple\n",
    "random sample of 100 voters are surveyed from each state.\n",
    "What is the probability that the survey will show a greater percentage of Republican\n",
    "voters in the second state than in the first state?\n",
    "\n",
    "#### Solution:\n",
    "Mean Difference in number of  republican  in both states = 0.52  - 0.47  = 0.05\n",
    "\n",
    "n(random sample) = 100\n",
    "\n",
    "standard deviation   =   √ ((0.52)(0.48)/100 + (0.47)(0.53)/100 ) => 0.0706\n",
    "\n",
    "Z score  = ( Value - mean ) / Standard deviation"
   ]
  },
  {
   "cell_type": "code",
   "execution_count": 4,
   "metadata": {},
   "outputs": [
    {
     "name": "stdout",
     "output_type": "stream",
     "text": [
      "Standard deviation:  0.07061869440877536\n"
     ]
    }
   ],
   "source": [
    "x̅ = 0\n",
    "𝜇 = 0.05\n",
    "n=100\n",
    "Standard_deviation = np.sqrt((0.52*0.48)/100 + (0.47*0.53)/100)\n",
    "print(\"Standard deviation: \",Standard_deviation)"
   ]
  },
  {
   "cell_type": "code",
   "execution_count": 5,
   "metadata": {},
   "outputs": [
    {
     "name": "stdout",
     "output_type": "stream",
     "text": [
      "Value of z_test is :  -0.7080278164104207\n"
     ]
    }
   ],
   "source": [
    "z_test = (x̅ - 𝜇)/ Standard_deviation\n",
    "print(\"Value of z_test is : \",z_test)"
   ]
  },
  {
   "cell_type": "code",
   "execution_count": 6,
   "metadata": {},
   "outputs": [
    {
     "name": "stdout",
     "output_type": "stream",
     "text": [
      "value of -0.708 in z-table is : 0.2394726287398799\n"
     ]
    }
   ],
   "source": [
    "print(\"value of -0.708 in z-table is :\",sts.norm.cdf(-0.708))"
   ]
  },
  {
   "cell_type": "markdown",
   "metadata": {},
   "source": [
    "Hence 0.24 is the probability that the survey will show a greater percentage of Republican voters in the second  state than in the first state"
   ]
  },
  {
   "cell_type": "markdown",
   "metadata": {},
   "source": [
    "### Problem 3:\n",
    "You take the SAT and score 1100. The mean score for the SAT is 1026 and the standard\n",
    "deviation is 209. How well did you score on the test compared to the average test taker?\n",
    "\n",
    "#### Solution:\n",
    "x̅ = 1100\n",
    "\n",
    "𝜇 = 1026\n",
    "\n",
    "Standar deviation = 209\n",
    "\n",
    "Z score = ( Value - mean ) / Standard deviation"
   ]
  },
  {
   "cell_type": "code",
   "execution_count": 7,
   "metadata": {},
   "outputs": [
    {
     "name": "stdout",
     "output_type": "stream",
     "text": [
      "Value of z_score is :  0.35406698564593303\n"
     ]
    }
   ],
   "source": [
    "x̅ = 1100\n",
    "𝜇 = 1026\n",
    "Standard_deviation = 209\n",
    "z_score = (x̅ - 𝜇) / Standard_deviation\n",
    "print(\"Value of z_score is : \",z_score)"
   ]
  },
  {
   "cell_type": "code",
   "execution_count": 8,
   "metadata": {},
   "outputs": [
    {
     "name": "stdout",
     "output_type": "stream",
     "text": [
      "value of 0.354 in z-table is :  0.6383305583821042\n"
     ]
    }
   ],
   "source": [
    "print(\"value of 0.354 in z-table is : \",sts.norm.cdf(0.354))"
   ]
  },
  {
   "cell_type": "markdown",
   "metadata": {},
   "source": [
    "Conclusion: I score 0.6383 or 63.83% in the test as compared to the average test takers."
   ]
  },
  {
   "cell_type": "code",
   "execution_count": null,
   "metadata": {},
   "outputs": [],
   "source": []
  }
 ],
 "metadata": {
  "kernelspec": {
   "display_name": "Python 3",
   "language": "python",
   "name": "python3"
  },
  "language_info": {
   "codemirror_mode": {
    "name": "ipython",
    "version": 3
   },
   "file_extension": ".py",
   "mimetype": "text/x-python",
   "name": "python",
   "nbconvert_exporter": "python",
   "pygments_lexer": "ipython3",
   "version": "3.8.3"
  }
 },
 "nbformat": 4,
 "nbformat_minor": 4
}
