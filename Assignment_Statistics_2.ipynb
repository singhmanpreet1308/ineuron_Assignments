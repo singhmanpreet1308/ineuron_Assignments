{
 "cells": [
  {
   "cell_type": "markdown",
   "metadata": {},
   "source": [
    "### Problem Statement 1:In each of the following situations, state whether it is a correctly stated hypothesis testing problem and why?\n",
    "1. 𝐻0: 𝜇 = 25, 𝐻1: 𝜇 ≠ 25\n",
    "2. 𝐻0: 𝜎 > 10, 𝐻1: 𝜎 = 10\n",
    "3. 𝐻0: x̅ = 50, 𝐻1: x̅ ≠ 50\n",
    "4. 𝐻0: 𝑝 = 0.1, 𝐻1: 𝑝 = 0.5\n",
    "5. 𝐻0: 𝑠 = 30, 𝐻1: 𝑠 > 30"
   ]
  },
  {
   "cell_type": "markdown",
   "metadata": {},
   "source": [
    "#### Solution:\n",
    "\n",
    "1) 𝐻0: 𝜇 = 25, 𝐻1: 𝜇 ≠ 25\n",
    "\n",
    "The statement 𝐻0: 𝜇 = 25 is called \"Null-Hypotheseis\".This is a claim that is initially assumed to be true.\n",
    "\n",
    "The statement 𝐻1: 𝜇 ≠ 25 is called \"Alternative-Hypothesis\".It is statement that contradicts the null-hypothesis.\n",
    "\n",
    "Yes ,it is a correctly stated hypothesis testing problem because the alternative-hypothesis specifies value of 𝜇 that could either be greater or less than 25,it is also called two-sided alternative-hypothesis."
   ]
  },
  {
   "cell_type": "markdown",
   "metadata": {},
   "source": [
    "2) 𝐻0: 𝜎 > 10, 𝐻1: 𝜎 = 10\n",
    "\n",
    "No,this is not a correctly stated hypotheis testing because we will always state the null-hypothesis as an equality claim.However when the alternative-hypothesis is stated with the < sign,the implicit claim in the null-hypothesis can be taken as ≥ and when the alternative-hypotheseis is stated with the  > sign,the implicit claim in the null-hypothesis can be taken as ≤."
   ]
  },
  {
   "cell_type": "markdown",
   "metadata": {},
   "source": [
    "3) 𝐻0: x̅ = 50, 𝐻1: x̅ ≠ 50\n",
    "\n",
    "No,this is not a correctly stated hypotheis testing because it is important to remember that hypotheses are always statements about the population or distribution under the study, not statements about the sample."
   ]
  },
  {
   "cell_type": "markdown",
   "metadata": {},
   "source": [
    "4) 𝐻0: 𝑝 = 0.1, 𝐻1: 𝑝 = 0.5\n",
    "\n",
    "No,this is not a correctly stated hypotheis testing because Values in both hypothesis are different."
   ]
  },
  {
   "cell_type": "markdown",
   "metadata": {},
   "source": [
    "5) 𝐻0: 𝑠 = 30, 𝐻1: 𝑠 > 30\n",
    "\n",
    "No,this is not a correctly stated hypotheis testing because hypotheses are always statements about the population or distribution under the study, not statements about the sample."
   ]
  },
  {
   "cell_type": "markdown",
   "metadata": {},
   "source": [
    "### Problem Statement 2:\n",
    "The college bookstore tells prospective students that the average cost of its\n",
    "textbooks is Rs. 52 with a standard deviation of Rs. 4.50. A group of smart statistics\n",
    "students thinks that the average cost is higher. To test the bookstore’s claim against\n",
    "their alternative, the students will select a random sample of size 100. Assume that\n",
    "the mean from their random sample is Rs. 52.80. Perform a hypothesis test at the\n",
    "5% level of significance and state your decision."
   ]
  },
  {
   "cell_type": "markdown",
   "metadata": {},
   "source": [
    "#### Solution:-          \n",
    "        𝐻0: 𝜇 <= 52 (null-hypothesis) that bookstore claim\n",
    "\n",
    "        𝐻1: 𝜇 > 52 (alternative-hypothesis) that students claim\n",
    "            \n",
    "          \n",
    "- Population mean(𝜇) =52\n",
    "- sample mean(x̅) = 52.80\n",
    "- random sample size(n) = 100\n",
    "- standard deviation(σ) = 4.50\n",
    "- significance-level(α) = 5% or 0.05\n",
    "\n",
    "We use Z-test forumula , Z(test) = (x̅ - 𝜇) / Standard error\n",
    "\n",
    "standard error= σ / √n"
   ]
  },
  {
   "cell_type": "code",
   "execution_count": 1,
   "metadata": {},
   "outputs": [
    {
     "name": "stdout",
     "output_type": "stream",
     "text": [
      "Standard error is :  0.45\n"
     ]
    }
   ],
   "source": [
    "import numpy as np\n",
    "import scipy.stats as sts\n",
    "sigma = 4.50\n",
    "n=100\n",
    "Standard_error = sigma / np.sqrt(100)\n",
    "print(\"Standard error is : \",Standard_error)"
   ]
  },
  {
   "cell_type": "code",
   "execution_count": 2,
   "metadata": {},
   "outputs": [
    {
     "name": "stdout",
     "output_type": "stream",
     "text": [
      "Value of z_test is :  1.7777777777777715\n"
     ]
    }
   ],
   "source": [
    "x̅ = 52.80\n",
    "𝜇 = 52\n",
    "\n",
    "z_test = (x̅ - 𝜇)/ Standard_error\n",
    "print(\"Value of z_test is : \",z_test)"
   ]
  },
  {
   "cell_type": "code",
   "execution_count": 3,
   "metadata": {},
   "outputs": [
    {
     "name": "stdout",
     "output_type": "stream",
     "text": [
      "The value of 0.05 in z_score table is:  -1.6448536269514729\n"
     ]
    }
   ],
   "source": [
    "print(\"The value of 0.05 in z_score table is: \",sts.norm.ppf(0.05))"
   ]
  },
  {
   "cell_type": "markdown",
   "metadata": {},
   "source": [
    "The value of Z-test that is 1.777 not comes under critical region of -1.6448.\n",
    "\n",
    "Conclusion: This means that we reject null-hypothesis and accept the alternative-hypothesis which students claims that  𝜇 > 52."
   ]
  },
  {
   "cell_type": "markdown",
   "metadata": {},
   "source": [
    "### Problem Statement 3:\n",
    "A certain chemical pollutant in the Genesee River has been constant for several\n",
    "years with mean μ = 34 ppm (parts per million) and standard deviation σ = 8 ppm. A\n",
    "group of factory representatives whose companies discharge liquids into the river is\n",
    "now claiming that they have lowered the average with improved filtration devices. A\n",
    "group of environmentalists will test to see if this is true at the 1% level of\n",
    "significance. Assume that their sample of size 50 gives a mean of 32.5 ppm.\n",
    "Perform a hypothesis test at the 1% level of significance and state your decision.\n",
    "\n",
    "#### Solution:\n",
    "\n",
    "    𝐻0: 𝜇 = 34 (null-hypothesis) that Environmentalists claim\n",
    "\n",
    "    𝐻1: 𝜇 < 34 (alternative-hypothesis) that Factory Representatives claim\n",
    "    \n",
    "- Population mean(𝜇) = 34\n",
    "- sample mean(x̅) = 32.5\n",
    "- random sample size(n) = 50\n",
    "- standard deviation(σ) = 8\n",
    "- significance-level(α) = 1% or 0.01\n",
    "\n",
    "We use t-test forumula , t(test) = (x̅ - 𝜇) / Standard error\n",
    "\n",
    "standard error= σ / √n"
   ]
  },
  {
   "cell_type": "code",
   "execution_count": 4,
   "metadata": {},
   "outputs": [
    {
     "name": "stdout",
     "output_type": "stream",
     "text": [
      "Standard error is :  1.131370849898476\n"
     ]
    }
   ],
   "source": [
    "sigma = 8\n",
    "n=50\n",
    "Standard_error = sigma / np.sqrt(50)\n",
    "print(\"Standard error is : \",Standard_error)"
   ]
  },
  {
   "cell_type": "code",
   "execution_count": 5,
   "metadata": {},
   "outputs": [
    {
     "name": "stdout",
     "output_type": "stream",
     "text": [
      "Value of t_test is :  -1.3258252147247767\n"
     ]
    }
   ],
   "source": [
    "x̅ = 32.5\n",
    "𝜇 = 34\n",
    "\n",
    "t_test = (x̅ - 𝜇)/ Standard_error\n",
    "print(\"Value of t_test is : \",t_test)"
   ]
  },
  {
   "cell_type": "code",
   "execution_count": 6,
   "metadata": {},
   "outputs": [
    {
     "name": "stdout",
     "output_type": "stream",
     "text": [
      "The value of 0.01 in z_score table is:  -2.3263478740408408\n"
     ]
    }
   ],
   "source": [
    "print(\"The value of 0.01 in z_score table is: \",sts.norm.ppf(0.01))"
   ]
  },
  {
   "cell_type": "code",
   "execution_count": 7,
   "metadata": {},
   "outputs": [
    {
     "name": "stdout",
     "output_type": "stream",
     "text": [
      "The p-value is :  0.0924487994828001\n"
     ]
    }
   ],
   "source": [
    "p_value = sts.norm.cdf(-1.3258252147247767)\n",
    "print(\"The p-value is : \",p_value)"
   ]
  },
  {
   "cell_type": "markdown",
   "metadata": {},
   "source": [
    "In this problem statement, we can see that our significance-level value at 0.01 is -2.326 and Our p_value is 0.0924.\n",
    "\n",
    "Conclusion: This means that p_value is greater than α(significance level).In that case we accept the null-hypothesis that Environmentalists claim(𝜇 = 34)"
   ]
  },
  {
   "cell_type": "markdown",
   "metadata": {},
   "source": [
    "### Problem Statement 4:\n",
    "Based on population figures and other general information on the U.S. population,\n",
    "suppose it has been estimated that, on average, a family of four in the U.S. spends\n",
    "about $1135 annually on dental expenditures. Suppose further that a regional dental\n",
    "association wants to test to determine if this figure is accurate for their area of\n",
    "country. To test this, 22 families of 4 are randomly selected from the population in\n",
    "that area of the country and a log is kept of the family’s dental expenditure for one\n",
    "year. The resulting data are given below. Assuming, that dental expenditure is\n",
    "normally distributed in the population, use the data and an alpha of 0.5 to test the\n",
    "dental association’s hypothesis.\n",
    "\n",
    "1008, 812, 1117, 1323, 1308, 1415, 831, 1021, 1287, 851, 930, 730, 699,\n",
    "872, 913, 944, 954, 987, 1695, 995, 1003, 994"
   ]
  },
  {
   "cell_type": "markdown",
   "metadata": {},
   "source": [
    "#### Solution:\n",
    "\n",
    "             𝐻0: 𝜇 = 1135 (null-hypothesis) annually spent 1134$.\n",
    "\n",
    "             𝐻1: 𝜇 ≠ 1135 (alternative-hypothesis) not annually spent 1134$.\n",
    "\n",
    "\n",
    "\n",
    "Population mean(𝜇) = 1135\n",
    "\n",
    "sample mean(x̅) =(1008+812+1117+1323+1308+1415+831+1021+1287+851+930+730+699+872+913+944+954+987+1695+995+1003+994)/22=1031.3181\n",
    "\n",
    "random sample size(n) = 22\n",
    "\n",
    "standard deviation(σ) = 234.847\n",
    "\n",
    "significance-level(α) = 5% or 0.05\n",
    "\n",
    "We use t-test forumula , t(test) = (x̅ - 𝜇) / Standard error\n",
    "\n",
    "standard error= σ / √n"
   ]
  },
  {
   "cell_type": "code",
   "execution_count": 8,
   "metadata": {},
   "outputs": [],
   "source": [
    "data = [1008, 812, 1117, 1323, 1308, 1415, 831, 1021, 1287, 851, 930, 730, 699, 872, 913, 944, 954, 987, 1695, 995, 1003, 994]"
   ]
  },
  {
   "cell_type": "code",
   "execution_count": 9,
   "metadata": {},
   "outputs": [
    {
     "name": "stdout",
     "output_type": "stream",
     "text": [
      "mean: 1031.3181818181818\n"
     ]
    }
   ],
   "source": [
    "x̅ = np.mean(data)\n",
    "print(\"mean:\",x̅)"
   ]
  },
  {
   "cell_type": "code",
   "execution_count": 10,
   "metadata": {},
   "outputs": [
    {
     "name": "stdout",
     "output_type": "stream",
     "text": [
      "Standard error is :  50.0697606883329\n"
     ]
    }
   ],
   "source": [
    "𝜇 = 1135\n",
    "σ = np.std([data])\n",
    "Standard_error =  σ / np.sqrt(22)\n",
    "print(\"Standard error is : \",Standard_error)"
   ]
  },
  {
   "cell_type": "code",
   "execution_count": 11,
   "metadata": {},
   "outputs": [
    {
     "name": "stdout",
     "output_type": "stream",
     "text": [
      "Value of z_test is :  -2.070747228595759\n"
     ]
    }
   ],
   "source": [
    "z_test = (x̅ - 𝜇)/ Standard_error\n",
    "print(\"Value of z_test is : \",z_test)"
   ]
  },
  {
   "cell_type": "code",
   "execution_count": 12,
   "metadata": {},
   "outputs": [
    {
     "name": "stdout",
     "output_type": "stream",
     "text": [
      "value of 0.05 in t-table is :  -1.6448536269514729\n",
      "value of +0.025 in t-table is :  1.959963984540054\n",
      "value of -0.025 in t-table is :  -1.9599639845400545\n"
     ]
    }
   ],
   "source": [
    "print(\"value of 0.05 in t-table is : \",sts.norm.ppf(0.05))\n",
    "## Divide the level of significance both sidesz Z(+0.025) and Z(-0.025)\n",
    "print(\"value of +0.025 in t-table is : \",sts.norm.ppf(1- 0.025))\n",
    "print(\"value of -0.025 in t-table is : \",sts.norm.ppf(0.025))"
   ]
  },
  {
   "cell_type": "markdown",
   "metadata": {},
   "source": [
    "Conclusion: The value of z_test = -2.070747228595759 and the value of -0.025 in t-table is    -1.9599639845400545\n",
    "\n",
    "This clearly means that z_test value comes under critical-region.In that case we reject the null-hypothesis and accept the alternative hypothesis."
   ]
  },
  {
   "cell_type": "markdown",
   "metadata": {},
   "source": [
    "### Problem Statement 5:\n",
    "In a report prepared by the Economic Research Department of a major bank the\n",
    "Department manager maintains that the average annual family income on Metropolis\n",
    "is 48,432(dollar). What do you conclude about the validity of the report if a random sample\n",
    "of 400 families shows and average income of 48,574(dollar) with a standard deviation of\n",
    "2000?\n",
    "\n",
    "#### Solution :\n",
    "\n",
    "          𝐻0: 𝜇 = 48,432  (null-hypothesis) Metroplois  annually income  48,432$.\n",
    "\n",
    "          𝐻1: 𝜇 ≠ 48,432 (alternative-hypothesis) not annually earn $48,432.\n",
    "          \n",
    "          \n",
    "Population mean(𝜇)= 48,432\n",
    "\n",
    "Sample mean(x̅) = 48,574\n",
    "\n",
    "random sample size(n) = 400\n",
    "\n",
    "standard deviation(σ) = 2000\n",
    "\n",
    "We use Z-test forumula , Z(test) = (x̅ - 𝜇) / Standard error\n",
    "\n",
    "Standard error =   σ / √n"
   ]
  },
  {
   "cell_type": "code",
   "execution_count": 13,
   "metadata": {},
   "outputs": [
    {
     "name": "stdout",
     "output_type": "stream",
     "text": [
      "Standard error is :  100.0\n"
     ]
    }
   ],
   "source": [
    "𝜇 = 48432\n",
    "x̅ = 48574\n",
    "σ = 2000\n",
    "n = 400\n",
    "Standard_error = σ / np.sqrt(400)\n",
    "print(\"Standard error is : \",Standard_error)"
   ]
  },
  {
   "cell_type": "code",
   "execution_count": 14,
   "metadata": {},
   "outputs": [
    {
     "name": "stdout",
     "output_type": "stream",
     "text": [
      "Value of z_test is :  1.42\n"
     ]
    }
   ],
   "source": [
    "z_test = (x̅ - 𝜇)/ Standard_error\n",
    "print(\"Value of z_test is : \",z_test)"
   ]
  },
  {
   "cell_type": "code",
   "execution_count": 15,
   "metadata": {},
   "outputs": [
    {
     "name": "stdout",
     "output_type": "stream",
     "text": [
      "The value of 0.05 in z_score table is:  -1.6448536269514729\n",
      "The value of +0.025 in z_score table is:  1.959963984540054\n",
      "The value of -0.025 in z_score table is:  -1.9599639845400545\n"
     ]
    }
   ],
   "source": [
    "## Suppose we assume the significance-level(α) of 0.05\n",
    "print(\"The value of 0.05 in z_score table is: \",sts.norm.ppf(0.05))\n",
    "\n",
    "## Divide the level of significance both sidesz (+0.025) and (-0.025)\n",
    "print(\"The value of +0.025 in z_score table is: \",sts.norm.ppf(1- 0.025))\n",
    "print(\"The value of -0.025 in z_score table is: \",sts.norm.ppf(0.025))"
   ]
  },
  {
   "cell_type": "markdown",
   "metadata": {},
   "source": [
    "Conclusion: The value of z_test = 1.42 and the value of z(-0.0025) in z-table is  -1.959963984540054 &  z(+0.0025) is  1.959963984540054\n",
    "\n",
    "This clearly means that z_test value not comes under critical-region.In that case we accept  the null-hypothesis and reject  the alternative hypothesis.\n",
    "\n"
   ]
  },
  {
   "cell_type": "markdown",
   "metadata": {},
   "source": [
    "### Problem Statement 6:\n",
    "Suppose that in past years the average price per square foot for warehouses in the\n",
    "United States has been 32.28(dollar). A national real estate investor wants to determine\n",
    "whether that figure has changed now. The investor hires a researcher who randomly\n",
    "samples 19 warehouses that are for sale across the United States and finds that the\n",
    "mean price per square foot is 31.67(dollar), with a standard deviation of 1.29(dollar). assume\n",
    "that the prices of warehouse footage are normally distributed in population. If the\n",
    "researcher uses a 5% level of significance, what statistical conclusion can be\n",
    "reached? What are the hypotheses?\n",
    "\n",
    "#### Solution:     \n",
    "              𝐻0: 𝜇 = 32.28  (null-hypothesis).\n",
    "\n",
    "              𝐻1: 𝜇 < 32.28 (alternative-hypothesis).\n",
    "\n",
    "\n",
    "\n",
    "\n",
    "\n",
    "Population mean(𝜇)= 32.28\n",
    "\n",
    "Sample mean(x̅) = 31.67\n",
    "\n",
    "random sample size(n) = 19\n",
    "\n",
    "standard deviation(σ) = 1.29\n",
    "\n",
    "significance-level(α) = 5% or 0.05\n",
    "\n",
    "We use Z-test forumula , Z(test) = (x̅ - 𝜇) / Standard error\n",
    "\n",
    "Standard error = σ / √n"
   ]
  },
  {
   "cell_type": "code",
   "execution_count": 16,
   "metadata": {},
   "outputs": [
    {
     "name": "stdout",
     "output_type": "stream",
     "text": [
      "Standard error is :  0.29594629669302464\n"
     ]
    }
   ],
   "source": [
    "𝜇 = 32.28\n",
    "x̅ = 31.67\n",
    "σ = 1.29\n",
    "n = 19\n",
    "Standard_error = σ / np.sqrt(19)\n",
    "print(\"Standard error is : \",Standard_error)"
   ]
  },
  {
   "cell_type": "code",
   "execution_count": 17,
   "metadata": {},
   "outputs": [
    {
     "name": "stdout",
     "output_type": "stream",
     "text": [
      "Value of z_test is :  -2.06118477175179\n"
     ]
    }
   ],
   "source": [
    "z_test = (x̅ - 𝜇)/ Standard_error\n",
    "print(\"Value of z_test is : \",z_test)"
   ]
  },
  {
   "cell_type": "code",
   "execution_count": 18,
   "metadata": {},
   "outputs": [
    {
     "name": "stdout",
     "output_type": "stream",
     "text": [
      "The value of 0.05 in z_score table is:  -1.6448536269514729\n"
     ]
    }
   ],
   "source": [
    "print(\"The value of 0.05 in z_score table is: \",sts.norm.ppf(0.05))"
   ]
  },
  {
   "cell_type": "markdown",
   "metadata": {},
   "source": [
    "Conclusion: The value of z_test = 1.42 and the value of z(0.05) in z-table is -1.6448536269514729\n",
    "This clearly means that z_test value comes under critical-region.In that case we reject the null-hypothesis and accept the alternative hypothesis."
   ]
  },
  {
   "cell_type": "markdown",
   "metadata": {},
   "source": [
    "### Problem Statement 8:\n",
    "Find the t-score for a sample size of 16 taken from a population with mean 10 when\n",
    "the sample mean is 12 and the sample standard deviation is 1.5.\n",
    "\n",
    "#### Solution :\n",
    "Population mean(𝜇)= 10\n",
    "\n",
    "sample mean(x̅)= 12\n",
    "\n",
    "standard deviation(σ)=1.5\n",
    "\n",
    "sample size(n)= 16\n",
    "\n",
    "t_test = (x̅ - 𝜇 ) /  Standard error \n",
    " \n",
    "Standard error = σ / √n"
   ]
  },
  {
   "cell_type": "code",
   "execution_count": 19,
   "metadata": {},
   "outputs": [
    {
     "name": "stdout",
     "output_type": "stream",
     "text": [
      "Standard error is :  0.375\n"
     ]
    }
   ],
   "source": [
    "𝜇 = 10\n",
    "x̅ = 12\n",
    "σ = 1.5\n",
    "n = 16\n",
    "Standard_error = σ / np.sqrt(16)\n",
    "print(\"Standard error is : \",Standard_error)"
   ]
  },
  {
   "cell_type": "code",
   "execution_count": 20,
   "metadata": {},
   "outputs": [
    {
     "name": "stdout",
     "output_type": "stream",
     "text": [
      "Value of t_test is :  5.333333333333333\n"
     ]
    }
   ],
   "source": [
    "t_test = (x̅ - 𝜇)/ Standard_error\n",
    "print(\"Value of t_test is : \",t_test)"
   ]
  },
  {
   "cell_type": "markdown",
   "metadata": {},
   "source": [
    "### Problem Statement 9:\n",
    "Find the t-score below which we can expect 99% of sample means will fall if samples\n",
    "of size 16 are taken from a normally distributed population.\n",
    "\n",
    "#### Solution:\n",
    "   n=16\n",
    " \n",
    "   1-α= 0.99 or 99%"
   ]
  },
  {
   "cell_type": "code",
   "execution_count": 21,
   "metadata": {},
   "outputs": [
    {
     "data": {
      "text/plain": [
       "0.010000000000000009"
      ]
     },
     "execution_count": 21,
     "metadata": {},
     "output_type": "execute_result"
    }
   ],
   "source": [
    "α=1-0.99\n",
    "α"
   ]
  },
  {
   "cell_type": "code",
   "execution_count": 22,
   "metadata": {},
   "outputs": [
    {
     "name": "stdout",
     "output_type": "stream",
     "text": [
      "degree of freedom 15\n"
     ]
    }
   ],
   "source": [
    "df= n-1\n",
    "print(\"degree of freedom\",df)"
   ]
  },
  {
   "cell_type": "code",
   "execution_count": 23,
   "metadata": {},
   "outputs": [
    {
     "data": {
      "text/plain": [
       "-2.6024802949954933"
      ]
     },
     "execution_count": 23,
     "metadata": {},
     "output_type": "execute_result"
    }
   ],
   "source": [
    "sts.t.ppf(0.01,15)"
   ]
  },
  {
   "cell_type": "markdown",
   "metadata": {},
   "source": [
    "### Problem Statement 10:\n",
    "If a random sample of size 25 drawn from a normal population gives a mean of 60\n",
    "and a standard deviation of 4, find the range of t-scores where we can expect to find\n",
    "the middle 95% of all sample means. Compute the probability that (−𝑡0.05 <𝑡<𝑡0.10)?\n",
    "\n",
    "#### Solution:\n",
    "n=25\n",
    "\n",
    "Population mean(𝜇) = 60\n",
    "\n",
    "standard deviation(σ)=4\n",
    "\n",
    "Confidence = 0.95 or 95%\n",
    "\n",
    "To calculate signifance levle(α), 1-α = 0.95"
   ]
  },
  {
   "cell_type": "code",
   "execution_count": 24,
   "metadata": {},
   "outputs": [
    {
     "name": "stdout",
     "output_type": "stream",
     "text": [
      "Signifance level:  0.050000000000000044\n",
      "Standard error is :  0.8\n"
     ]
    }
   ],
   "source": [
    "n=25\n",
    "𝜇 = 60\n",
    "σ=4\n",
    "α= 1- 0.95\n",
    "print(\"Signifance level: \",α)\n",
    "Standard_error = σ / np.sqrt(25)\n",
    "print(\"Standard error is : \",Standard_error)"
   ]
  },
  {
   "cell_type": "code",
   "execution_count": 25,
   "metadata": {},
   "outputs": [
    {
     "name": "stdout",
     "output_type": "stream",
     "text": [
      " Lower and upper values of  first standard deviation:  56 64\n"
     ]
    }
   ],
   "source": [
    "##To find the value that is two standard deviations above the expected value 90, use the formula: \n",
    "## 1st  standard deviation (lower value = 𝜇-σ ,upper value = 𝜇+σ)\n",
    "## 2nd  standard deviation (lower value = 𝜇-2σ ,upper value = 𝜇+2σ)\n",
    "First_Std_lower_value = 𝜇-σ \n",
    "First_Std_upper_value = 𝜇+σ \n",
    "print(\" Lower and upper values of  first standard deviation: \",First_Std_lower_value,First_Std_upper_value)"
   ]
  },
  {
   "cell_type": "code",
   "execution_count": 26,
   "metadata": {},
   "outputs": [
    {
     "name": "stdout",
     "output_type": "stream",
     "text": [
      " Lower and upper values of second standard deviation:  52 68\n"
     ]
    }
   ],
   "source": [
    "Second_Std_lower_value = 𝜇-(2*σ) \n",
    "Second_Std_upper_value = 𝜇+(2*σ)\n",
    "print(\" Lower and upper values of second standard deviation: \",Second_Std_lower_value,Second_Std_upper_value)"
   ]
  },
  {
   "cell_type": "code",
   "execution_count": 27,
   "metadata": {},
   "outputs": [
    {
     "data": {
      "text/plain": [
       "[64, 16, 0, 16, 64]"
      ]
     },
     "execution_count": 27,
     "metadata": {},
     "output_type": "execute_result"
    }
   ],
   "source": [
    "values = [52,56,60,64,68]\n",
    "squared = [ np.square(i - 𝜇) for i in values ]\n",
    "squared"
   ]
  },
  {
   "cell_type": "code",
   "execution_count": 28,
   "metadata": {},
   "outputs": [],
   "source": [
    "a = np.sum(squared) / 4"
   ]
  },
  {
   "cell_type": "code",
   "execution_count": 29,
   "metadata": {},
   "outputs": [
    {
     "name": "stdout",
     "output_type": "stream",
     "text": [
      "sample mean :  2.8284271247461903\n"
     ]
    }
   ],
   "source": [
    "x̅ = np.sqrt(a)/ np.sqrt(5)\n",
    "print(\"sample mean : \",x̅)"
   ]
  },
  {
   "cell_type": "code",
   "execution_count": 30,
   "metadata": {},
   "outputs": [
    {
     "name": "stdout",
     "output_type": "stream",
     "text": [
      "Value of t_test is :  -71.46446609406726\n"
     ]
    }
   ],
   "source": [
    "t_test = (x̅ - 𝜇)/ Standard_error\n",
    "print(\"Value of t_test is : \",t_test)"
   ]
  },
  {
   "cell_type": "code",
   "execution_count": 31,
   "metadata": {},
   "outputs": [
    {
     "name": "stdout",
     "output_type": "stream",
     "text": [
      "value of -0.05 in table  -1.7108820799094282\n",
      "value of +0.10 in table  1.317835931859603\n"
     ]
    }
   ],
   "source": [
    "# Compute the probability that (−𝑡0.05 <𝑡<𝑡0.10), df(degree of freedom)=n-1 =>25-1==>24 \n",
    "print(\"value of -0.05 in table \",sts.t.ppf(0.05,24))\n",
    "print(\"value of +0.10 in table \",sts.t.ppf(1-0.10,24))"
   ]
  },
  {
   "cell_type": "markdown",
   "metadata": {},
   "source": [
    "range-> -1.710 < -71.46 < 1.31"
   ]
  },
  {
   "cell_type": "code",
   "execution_count": null,
   "metadata": {},
   "outputs": [],
   "source": []
  },
  {
   "cell_type": "markdown",
   "metadata": {},
   "source": [
    "### Problem Statement 11:\n",
    "Two-tailed test for difference between two population means\n",
    "Is there evidence to conclude that the number of people travelling from Bangalore to\n",
    "Chennai is different from the number of people travelling from Bangalore to Hosur in\n",
    "a week, \n",
    "\n",
    "given the following:\n",
    "\n",
    "Population 1: Bangalore to Chennai \n",
    "\n",
    "n1 = 1200\n",
    "\n",
    "x1 = 452\n",
    "\n",
    "s1 = 212\n",
    "\n",
    "Population 2: Bangalore to Hosur \n",
    "\n",
    "n2 = 800\n",
    "\n",
    "x2 = 523\n",
    "\n",
    "s2 = 185"
   ]
  },
  {
   "cell_type": "code",
   "execution_count": 32,
   "metadata": {},
   "outputs": [
    {
     "name": "stdout",
     "output_type": "stream",
     "text": [
      "Srandard error is :  8.957375917830698\n"
     ]
    }
   ],
   "source": [
    "n1 = 1200\n",
    "n2 =  800\n",
    "x̅1 = 452\n",
    "x̅2 = 523\n",
    "σ1 = 212\n",
    "σ2 = 185\n",
    "Standard_error = np.sqrt((np.square(σ1)/n1 + np.square(σ2)/n2))\n",
    "print(\"Srandard error is : \",Standard_error)"
   ]
  },
  {
   "cell_type": "code",
   "execution_count": 33,
   "metadata": {},
   "outputs": [
    {
     "name": "stdout",
     "output_type": "stream",
     "text": [
      "Value of z_test is :  -7.926428526759299\n"
     ]
    }
   ],
   "source": [
    "## n> 30 in both the cases so we apply z-test\n",
    "z_test = (x̅1 - x̅2 )/ Standard_error\n",
    "print(\"Value of z_test is : \",z_test)"
   ]
  },
  {
   "cell_type": "code",
   "execution_count": 34,
   "metadata": {},
   "outputs": [
    {
     "name": "stdout",
     "output_type": "stream",
     "text": [
      "The value of -0.025 in z_score table is:  -1.9599639845400545\n",
      "The value of +0.025 in z_score table is:  1.959963984540054\n"
     ]
    }
   ],
   "source": [
    "## Acording to question test is two-tail hence α/2 will be taken under consideration where α=0.05 ...So α/2 = 0.025\n",
    "print(\"The value of -0.025 in z_score table is: \",sts.norm.ppf(0.025))\n",
    "print(\"The value of +0.025 in z_score table is: \",sts.norm.ppf(1-0.025))"
   ]
  },
  {
   "cell_type": "markdown",
   "metadata": {},
   "source": [
    "- Conclusion:- The value of z_test that is -7.926 comes under critical region of Z(0.025)= -1.95.So,𝐻0(null-hypothesis) will be rejected"
   ]
  },
  {
   "cell_type": "markdown",
   "metadata": {},
   "source": [
    "### Problem Statement 12:\n",
    "Is there evidence to conclude that the number of people preferring Duracell battery is\n",
    "different from the number of people preferring Energizer battery, \n",
    "given the following:\n",
    "\n",
    "Population 1: Duracell\n",
    "\n",
    "n1 = 100\n",
    "\n",
    "x1 = 308\n",
    "\n",
    "s1 = 84\n",
    "\n",
    "Population 2: Energizer\n",
    "\n",
    "n2 = 100\n",
    "\n",
    "x2 = 254\n",
    "\n",
    "s2 = 67\n",
    "\n",
    "𝐻0:Different people use different battery\n",
    "\n",
    "𝐻1: Same people using different battery"
   ]
  },
  {
   "cell_type": "code",
   "execution_count": 35,
   "metadata": {},
   "outputs": [
    {
     "name": "stdout",
     "output_type": "stream",
     "text": [
      "Standard error is :  10.74476616776745\n"
     ]
    }
   ],
   "source": [
    "n1 = 100\n",
    "n2 = 100\n",
    "x̅1 = 308\n",
    "x̅2 = 254\n",
    "σ1 = 84\n",
    "σ2 = 67\n",
    "Standard_error = np.sqrt((np.square(σ1)/n1 + np.square(σ2)/n2))\n",
    "print(\"Standard error is : \",Standard_error)"
   ]
  },
  {
   "cell_type": "code",
   "execution_count": 36,
   "metadata": {},
   "outputs": [
    {
     "name": "stdout",
     "output_type": "stream",
     "text": [
      "Value of z_test is :  5.025702668336442\n"
     ]
    }
   ],
   "source": [
    "## n> 30 in both the cases so we apply z-test\n",
    "z_test = (x̅1 - x̅2 )/ Standard_error\n",
    "print(\"Value of z_test is : \",z_test)"
   ]
  },
  {
   "cell_type": "code",
   "execution_count": 37,
   "metadata": {},
   "outputs": [
    {
     "name": "stdout",
     "output_type": "stream",
     "text": [
      "The value of -0.025 in z_score table is:  -1.9599639845400545\n",
      "The value of +0.025 in z_score table is:  1.959963984540054\n"
     ]
    }
   ],
   "source": [
    "## Acording to question test is two-tail hence α/2 will be taken under consideration where α=0.05 ...So α/2 = 0.025\n",
    "print(\"The value of -0.025 in z_score table is: \",sts.norm.ppf(0.025))\n",
    "print(\"The value of +0.025 in z_score table is: \",sts.norm.ppf(1-0.025))"
   ]
  },
  {
   "cell_type": "markdown",
   "metadata": {},
   "source": [
    "Conclusion:- The value of z_test that is 5.025 comes under critical region of +Z(0.025)= 1.95.So,𝐻0(null-hypothesis) will be rejected"
   ]
  },
  {
   "cell_type": "markdown",
   "metadata": {},
   "source": [
    "### Problem 13:\n",
    "Pooled estimate of the population variance\n",
    "Does the data provide sufficient evidence to conclude that average percentage\n",
    "increase in the price of sugar differs when it is sold at two different prices?\n",
    "\n",
    "Population 1: Price of sugar = Rs. 27.50 \n",
    "\n",
    "n1 = 14\n",
    "\n",
    "x1 = 0.317%\n",
    "\n",
    "s1 = 0.12%\n",
    "\n",
    "Population 2: Price of sugar = Rs. 20.00 \n",
    "\n",
    "n2 = 9\n",
    "\n",
    "x2 = 0.21%\n",
    "\n",
    "s2 = 0.11%\n",
    "\n",
    "𝐻0: 𝜇1-𝜇2 = 0 (null-hypothesis)\n",
    "\n",
    "𝐻1: 𝜇1-𝜇2 ≠ 0 (alternative-hypothesis)\n",
    "\n"
   ]
  },
  {
   "cell_type": "code",
   "execution_count": 38,
   "metadata": {},
   "outputs": [
    {
     "data": {
      "text/plain": [
       "0.1162919151265879"
      ]
     },
     "execution_count": 38,
     "metadata": {},
     "output_type": "execute_result"
    }
   ],
   "source": [
    "n1 = 14\n",
    "x1 = 0.317\n",
    "s1 = 0.12\n",
    "n2 = 9\n",
    "x2 = 0.2100\n",
    "s2 = 0.11\n",
    "\n",
    "Sample_std =  np.sqrt ( ((n1-1)*np.square(s1) + (n2-1)*np.square(s2)) / (n1+n2-2) )\n",
    "Sample_std"
   ]
  },
  {
   "cell_type": "code",
   "execution_count": 39,
   "metadata": {},
   "outputs": [
    {
     "data": {
      "text/plain": [
       "0.04968532879234398"
      ]
     },
     "execution_count": 39,
     "metadata": {},
     "output_type": "execute_result"
    }
   ],
   "source": [
    "Standard_error = Sample_std  * np.sqrt((1/n1 + 1/n2))\n",
    "Standard_error"
   ]
  },
  {
   "cell_type": "code",
   "execution_count": 40,
   "metadata": {},
   "outputs": [
    {
     "data": {
      "text/plain": [
       "2.15355322387416"
      ]
     },
     "execution_count": 40,
     "metadata": {},
     "output_type": "execute_result"
    }
   ],
   "source": [
    "t_stats = (x1-x2)/Standard_error\n",
    "t_stats"
   ]
  },
  {
   "cell_type": "code",
   "execution_count": 41,
   "metadata": {},
   "outputs": [
    {
     "name": "stdout",
     "output_type": "stream",
     "text": [
      "Degree of freedom:  21\n"
     ]
    }
   ],
   "source": [
    "df = (n1 + n2)- 2 \n",
    "print(\"Degree of freedom: \",df)"
   ]
  },
  {
   "cell_type": "code",
   "execution_count": 42,
   "metadata": {},
   "outputs": [
    {
     "name": "stdout",
     "output_type": "stream",
     "text": [
      "value of -0.025 in table  -2.0796138447276626\n",
      "value of +0.025 in table  2.079613844727662\n"
     ]
    }
   ],
   "source": [
    "## We will take reference of 95%.We have to do two tail -test to check both sides...significance-level=0.05\n",
    "print(\"value of -0.025 in table \",sts.t.ppf(0.025,df))\n",
    "print(\"value of +0.025 in table \",sts.t.ppf(1-0.025,df))"
   ]
  },
  {
   "cell_type": "markdown",
   "metadata": {},
   "source": [
    "Conclusion: t_stats value that is 2.153 comes under crital region of +t(0.025) is 2.079. We reject the null hypothesis."
   ]
  },
  {
   "cell_type": "markdown",
   "metadata": {},
   "source": [
    "### Problem 14: \n",
    "The manufacturers of compact disk players want to test whether a small price\n",
    "reduction is enough to increase sales of their product. Is there evidence that the\n",
    "small price reduction is enough to increase sales of compact disk players?\n",
    "\n",
    "Population 1: Before reduction\n",
    "\n",
    "n1 = 15\n",
    "\n",
    "x1 = Rs. 6598 \n",
    "\n",
    "s1 = Rs. 844\n",
    "\n",
    "Population 2: After reduction \n",
    "\n",
    "n2 = 12\n",
    "\n",
    "x2 = RS. 6870\n",
    "\n",
    "s2 = Rs. 669\n",
    "\n",
    "𝐻0: Small price reduction is enough to increase sales  (null-hypothesis).\n",
    "\n",
    "𝐻1: Small price reduction is not enough to increase sales (alternative-hypothesis)"
   ]
  },
  {
   "cell_type": "code",
   "execution_count": 43,
   "metadata": {},
   "outputs": [
    {
     "data": {
      "text/plain": [
       "771.9034913769985"
      ]
     },
     "execution_count": 43,
     "metadata": {},
     "output_type": "execute_result"
    }
   ],
   "source": [
    "n1 = 15\n",
    "x1 = 6598\n",
    "s1 = 844\n",
    "n2 = 12\n",
    "x2 = 6870\n",
    "s2 = 669\n",
    "\n",
    "Sample_std =  np.sqrt ( ((n1-1)*np.square(s1) + (n2-1)*np.square(s2)) / (n1+n2-2) )\n",
    "Sample_std"
   ]
  },
  {
   "cell_type": "code",
   "execution_count": 44,
   "metadata": {},
   "outputs": [
    {
     "data": {
      "text/plain": [
       "298.9569366982476"
      ]
     },
     "execution_count": 44,
     "metadata": {},
     "output_type": "execute_result"
    }
   ],
   "source": [
    "Standard_error = Sample_std  * np.sqrt((1/n1 + 1/n2))\n",
    "Standard_error"
   ]
  },
  {
   "cell_type": "code",
   "execution_count": 45,
   "metadata": {},
   "outputs": [
    {
     "data": {
      "text/plain": [
       "-0.9098300343990459"
      ]
     },
     "execution_count": 45,
     "metadata": {},
     "output_type": "execute_result"
    }
   ],
   "source": [
    "t_stats = (x1-x2)/Standard_error\n",
    "t_stats"
   ]
  },
  {
   "cell_type": "code",
   "execution_count": 46,
   "metadata": {},
   "outputs": [
    {
     "name": "stdout",
     "output_type": "stream",
     "text": [
      "Degree of freedom:  25\n"
     ]
    }
   ],
   "source": [
    "df = (n1 + n2)- 2 \n",
    "print(\"Degree of freedom: \",df)"
   ]
  },
  {
   "cell_type": "code",
   "execution_count": 47,
   "metadata": {},
   "outputs": [
    {
     "name": "stdout",
     "output_type": "stream",
     "text": [
      "value of -0.05 in table  -1.708140761251899\n",
      "value of +0.05 in table  1.7081407612518986\n"
     ]
    }
   ],
   "source": [
    "## We will take reference of 95%.We have to do one tail-test  significance-level=0.05\n",
    "print(\"value of -0.05 in table \",sts.t.ppf(0.05,df))\n",
    "print(\"value of +0.05 in table \",sts.t.ppf(1-0.05,df))"
   ]
  },
  {
   "cell_type": "markdown",
   "metadata": {},
   "source": [
    "Conclusion: t_stats value that is 0.909 not comes under crital region of -t(0.05) is -1.708. We accept the null hypothesis."
   ]
  },
  {
   "cell_type": "markdown",
   "metadata": {},
   "source": [
    "### Problem 15: \n",
    "Comparisons of two population proportions when the hypothesized difference is zero\n",
    "Carry out a two-tailed test of the equality of banks’ share of the car loan market in\n",
    "1980 and 1995.\n",
    "\n",
    "Population 1: 1980\n",
    "\n",
    "n1 = 1000\n",
    "\n",
    "x1 = 53\n",
    "\n",
    "p̂1 = 0.53\n",
    "\n",
    "Population 2: 1985\n",
    "\n",
    "n2 = 100\n",
    "\n",
    "x2 = 43\n",
    "\n",
    "p̂2 = 0.53\n",
    "\n",
    "𝐻0: p̂1-p̂2 is equal to zero (null-hypothesis)\n",
    "\n",
    "𝐻1: p̂1-p̂2 is not equal to zero (alternative-hypothesis)"
   ]
  },
  {
   "cell_type": "code",
   "execution_count": 48,
   "metadata": {},
   "outputs": [
    {
     "data": {
      "text/plain": [
       "0.08727272727272728"
      ]
     },
     "execution_count": 48,
     "metadata": {},
     "output_type": "execute_result"
    }
   ],
   "source": [
    "n1 = 1000\n",
    "x1 = 53\n",
    "p̂1 = 0.53\n",
    "n2 = 100\n",
    "x2 = 43\n",
    "p̂2 = 0.53\n",
    "\n",
    "p̂ = (x1+x2) / (n1+n2)\n",
    "p̂"
   ]
  },
  {
   "cell_type": "code",
   "execution_count": 49,
   "metadata": {},
   "outputs": [
    {
     "data": {
      "text/plain": [
       "0.0"
      ]
     },
     "execution_count": 49,
     "metadata": {},
     "output_type": "execute_result"
    }
   ],
   "source": [
    "z_test = np.sqrt((p̂1-p̂2)/ (p̂)*(1-p̂)*((1/n1) + (1/n2)))\n",
    "z_test"
   ]
  },
  {
   "cell_type": "code",
   "execution_count": 50,
   "metadata": {},
   "outputs": [
    {
     "name": "stdout",
     "output_type": "stream",
     "text": [
      "value of -0.05 in table  -1.6448536269514729\n",
      "value of +0.05 in table  1.6448536269514722\n"
     ]
    }
   ],
   "source": [
    "## We will take reference of 95%.We have to do one tail-ztest  significance-level=0.05\n",
    "print(\"value of -0.05 in table \",sts.norm.ppf(0.05))\n",
    "print(\"value of +0.05 in table \",sts.norm.ppf(1-0.05))"
   ]
  },
  {
   "cell_type": "markdown",
   "metadata": {},
   "source": [
    "Conclusion: The vale of Z-test not comes under critical region.We accept the null-hypothesis."
   ]
  },
  {
   "cell_type": "markdown",
   "metadata": {},
   "source": [
    "### Problem16:\n",
    "Carry out a one-tailed test to determine whether the population proportion of\n",
    "traveler’s check buyers who buy at least 2500dollar in checks when sweepstakes prizes\n",
    "are offered as at least 10percent higher than the proportion of such buyers when no\n",
    "sweepstakes are on.\n",
    "\n",
    "Population 1: With sweepstakes\n",
    "\n",
    "n1 = 300\n",
    "\n",
    "x1 = 120\n",
    "\n",
    "p̂1 = 0.40\n",
    "\n",
    "Population 2: No sweepstakes \n",
    "\n",
    "n2 = 700\n",
    "\n",
    "x2 = 140\n",
    "\n",
    "p̂2 = 0.20\n",
    "\n",
    "𝐻0: p1-p2 <= 0.10 (null-hypothesis)\n",
    "\n",
    "𝐻1: p1-p2 > 0.10 (alternative-hypothesis)"
   ]
  },
  {
   "cell_type": "code",
   "execution_count": 51,
   "metadata": {},
   "outputs": [
    {
     "data": {
      "text/plain": [
       "3.1180478223116177"
      ]
     },
     "execution_count": 51,
     "metadata": {},
     "output_type": "execute_result"
    }
   ],
   "source": [
    "n1 = 300\n",
    "x1 = 120\n",
    "p̂1 = 0.40\n",
    "n2 = 700\n",
    "x2 = 140\n",
    "p̂2 = 0.20\n",
    "D =0.10\n",
    "\n",
    "z_stst= ((p̂1-p̂2) - D) / np.sqrt( (p̂1*(1-p̂1)/n1) + (p̂2*(1-p̂2)/n2) )\n",
    "z_stst"
   ]
  },
  {
   "cell_type": "code",
   "execution_count": 52,
   "metadata": {},
   "outputs": [
    {
     "name": "stdout",
     "output_type": "stream",
     "text": [
      "value of 0.001 in zscore table : 3.090232306167813\n"
     ]
    }
   ],
   "source": [
    "## We will take reference of 99%.We have to do one tail-ztest  significance-level=0.001\n",
    "print(\"value of 0.001 in zscore table :\",sts.norm.ppf(1-0.001))"
   ]
  },
  {
   "cell_type": "markdown",
   "metadata": {},
   "source": [
    "Conclusion: The vale of Z-test that is 3.118 comes under critical region of z(0.001)=3.090 .We reject the null-hypothesis."
   ]
  },
  {
   "cell_type": "markdown",
   "metadata": {},
   "source": [
    "### Problem 17:\n",
    "A die is thrown 132 times with the following results: Number turned up: 1, 2, 3, 4, 5, 6\n",
    "\n",
    "Frequency: 16, 20, 25, 14, 29, 28\n",
    "\n",
    "Is the die unbiased? Consider the degrees of freedom as p̂ − 1.\n",
    "\n",
    "#### Solution: \n",
    "\n",
    "𝐻0: The die is unbiased (null-hypothesis)\n",
    "\n",
    "𝐻1: The die is not unbiased (alternative-hypothesis)"
   ]
  },
  {
   "cell_type": "code",
   "execution_count": 53,
   "metadata": {},
   "outputs": [
    {
     "name": "stdout",
     "output_type": "stream",
     "text": [
      "Expected frequency:  22.0\n"
     ]
    }
   ],
   "source": [
    "no_of_outcomes = 132\n",
    "possible_outcomes = 6\n",
    "Expected_frequency = no_of_outcomes / possible_outcomes\n",
    "print(\"Expected frequency: \",Expected_frequency)"
   ]
  },
  {
   "cell_type": "code",
   "execution_count": 54,
   "metadata": {
    "scrolled": true
   },
   "outputs": [
    {
     "data": {
      "text/plain": [
       "[-6.0, -2.0, 3.0, -8.0, 7.0, 6.0]"
      ]
     },
     "execution_count": 54,
     "metadata": {},
     "output_type": "execute_result"
    }
   ],
   "source": [
    "observed_frequency = [ 16, 20, 25, 14, 29, 28 ]\n",
    "my_new_list = [(i - Expected_frequency) for i in observed_frequency]\n",
    "my_new_list"
   ]
  },
  {
   "cell_type": "code",
   "execution_count": 55,
   "metadata": {},
   "outputs": [
    {
     "data": {
      "text/plain": [
       "198.0"
      ]
     },
     "execution_count": 55,
     "metadata": {},
     "output_type": "execute_result"
    }
   ],
   "source": [
    "my_new_list=np.sum(np.square(my_new_list))\n",
    "my_new_list"
   ]
  },
  {
   "cell_type": "code",
   "execution_count": 56,
   "metadata": {},
   "outputs": [
    {
     "data": {
      "text/plain": [
       "9.0"
      ]
     },
     "execution_count": 56,
     "metadata": {},
     "output_type": "execute_result"
    }
   ],
   "source": [
    "chi_square_test = my_new_list/Expected_frequency\n",
    "chi_square_test"
   ]
  },
  {
   "cell_type": "code",
   "execution_count": 57,
   "metadata": {},
   "outputs": [
    {
     "name": "stdout",
     "output_type": "stream",
     "text": [
      "p value is 1.0\n",
      "Independent (H0 holds true)\n"
     ]
    }
   ],
   "source": [
    "# We will take reference of 95%,so our significance-level(α)=0.05 and df(degree of freedom)=n-1 that is 6-1=>5\n",
    "from scipy.stats import chi2_contingency \n",
    "  \n",
    "# defining the table \n",
    "data = [ 16, 20, 25, 14, 29, 28 ] \n",
    "stat, p, dof, expected = chi2_contingency(data) \n",
    "  \n",
    "# interpret p-value \n",
    "alpha = 0.05\n",
    "print(\"p value is \" + str(p)) \n",
    "if p <= alpha: \n",
    "    print('Dependent (reject H0)') \n",
    "else: \n",
    "    print('Independent (H0 holds true)') "
   ]
  },
  {
   "cell_type": "markdown",
   "metadata": {},
   "source": [
    "Conclusion: our p_value > alpha , so we will accept the nul-hypothesis."
   ]
  },
  {
   "attachments": {
    "image.png": {
     "image/png": "[encoded data removed]"
    }
   },
   "cell_type": "markdown",
   "metadata": {},
   "source": [
    "### Problem 18:\n",
    "In a certain town, there are about one million eligible voters. A simple random\n",
    "sample of 10,000 eligible voters was chosen to study the relationship between\n",
    "gender and participation in the last election. The results are summarized in the\n",
    "following 2X2 (read two by two) contingency table\n",
    "![image.png](attachment:image.png)\n",
    "We would want to check whether being a man or a woman (columns) is independent of\n",
    "having voted in the last election (rows). In other words, is “gender and voting independent”?\n",
    "\n",
    "#### Solution:\n",
    "\n",
    "𝐻0 := `gender is independent of Voting`(null-hypothesis)\n",
    "\n",
    "𝐻1 := `gender and Voting are dependent` (alternative-hypothesis)\n",
    "\n",
    "\n"
   ]
  },
  {
   "attachments": {
    "image.png": {
     "image/png": "[encoded data removed]"
    }
   },
   "cell_type": "markdown",
   "metadata": {},
   "source": [
    "* we now need to complete our contingency table\n",
    "![image.png](attachment:image.png)"
   ]
  },
  {
   "attachments": {
    "image.png": {
     "image/png": "[encoded data removed]"
    }
   },
   "cell_type": "markdown",
   "metadata": {},
   "source": [
    "* Expected Table \n",
    "![image.png](attachment:image.png)\n",
    "\n",
    "\n",
    "Remember: expected frequencies = (row totals x column totals) / grand Total\n",
    "\t\t\t\n",
    "So, \n",
    "\n",
    "    (6383 * 4278) / 10000 = 2731\n",
    "\n",
    "    (6383 * 5722) / 10000 = 3652\n",
    "    \n",
    "    (3617 * 4278) / 10000 = 1547\n",
    "    \n",
    "    (3617 * 5722) / 10000 = 2070"
   ]
  },
  {
   "cell_type": "code",
   "execution_count": 58,
   "metadata": {},
   "outputs": [
    {
     "data": {
      "text/plain": [
       "array([[2792, 3591],\n",
       "       [1486, 2131]])"
      ]
     },
     "execution_count": 58,
     "metadata": {},
     "output_type": "execute_result"
    }
   ],
   "source": [
    "a1 = [2792,3591]\n",
    "a2 = [1486,2131]\n",
    "result = np.array([a1,a2])\n",
    "result"
   ]
  },
  {
   "cell_type": "code",
   "execution_count": 59,
   "metadata": {},
   "outputs": [
    {
     "data": {
      "text/plain": [
       "(6.552337973968181,\n",
       " 0.01047464310091866,\n",
       " 1,\n",
       " array([[2730.6474, 3652.3526],\n",
       "        [1547.3526, 2069.6474]]))"
      ]
     },
     "execution_count": 59,
     "metadata": {},
     "output_type": "execute_result"
    }
   ],
   "source": [
    "sts.chi2_contingency(result)"
   ]
  },
  {
   "cell_type": "code",
   "execution_count": 60,
   "metadata": {},
   "outputs": [
    {
     "name": "stdout",
     "output_type": "stream",
     "text": [
      "===Chi2 Stat===\n",
      "6.552337973968181\n",
      "\n",
      "\n",
      "===Degrees of Freedom===\n",
      "1\n",
      "\n",
      "\n",
      "===P-Value===\n",
      "0.01047464310091866\n",
      "\n",
      "\n",
      "===Contingency Table===\n",
      "[[2730.6474 3652.3526]\n",
      " [1547.3526 2069.6474]]\n"
     ]
    }
   ],
   "source": [
    "chi2_stat, p_val, dof, ex = sts.chi2_contingency(result)\n",
    "print(\"===Chi2 Stat===\")\n",
    "print(chi2_stat)\n",
    "print(\"\\n\")\n",
    "print(\"===Degrees of Freedom===\")\n",
    "print(dof)\n",
    "print(\"\\n\")\n",
    "print(\"===P-Value===\")\n",
    "print(p_val)\n",
    "print(\"\\n\")\n",
    "print(\"===Contingency Table===\")\n",
    "print(ex)"
   ]
  },
  {
   "cell_type": "code",
   "execution_count": 61,
   "metadata": {},
   "outputs": [
    {
     "name": "stdout",
     "output_type": "stream",
     "text": [
      "value of 0.05 in chi-table :  3.841458820694124\n"
     ]
    }
   ],
   "source": [
    "# We will take reference of 95%,so our significance-level(α)=0.05 and df(degree of freedom)=n-1 that is 2-1=>1\n",
    "print(\"value of 0.05 in chi-table : \",sts.chi2.ppf(0.95,1))"
   ]
  },
  {
   "cell_type": "markdown",
   "metadata": {},
   "source": [
    "Conclusion: Value of chi2_test is 6.55 lies under critical region of chi2(0.05)=3.84\n",
    "we reject the NULL.The data supports the hypothesis that gender and voting are dependent in this town."
   ]
  },
  {
   "attachments": {
    "image.png": {
     "image/png": "[encoded data removed]"
    }
   },
   "cell_type": "markdown",
   "metadata": {},
   "source": [
    "### Problem 19:\n",
    "A sample of 100 voters are asked which of four candidates they would vote for in an\n",
    "election. The number supporting each candidate is given below:\n",
    "![image.png](attachment:image.png)\n",
    "Do the data suggest that all candidates are equally popular? [Chi-Square = 14.96,\n",
    "with 3 df, p̂ < 0.05 .\n"
   ]
  },
  {
   "attachments": {
    "image.png": {
     "image/png": "[encoded data removed]"
    }
   },
   "cell_type": "markdown",
   "metadata": {},
   "source": [
    "### Solution :\n",
    "number of outcome = 100\n",
    "\n",
    "possible outcome = 4\n",
    "\n",
    "Expected_Frequency = number of outcome / possible outcome = 100/4 => 25\n",
    "![image.png](attachment:image.png)\n"
   ]
  },
  {
   "cell_type": "markdown",
   "metadata": {},
   "source": [
    "Adding together the last row gives us our value of chi2  :\n",
    "\n",
    " \n",
    "\n",
    "        Σ (O - E)2 / E  = 10.24+ 1.44 + 0.04 + 3.24 = 14.96, with 4 - 1 = 3 degrees of freedom.\n",
    "\n",
    " "
   ]
  },
  {
   "cell_type": "code",
   "execution_count": 62,
   "metadata": {},
   "outputs": [
    {
     "name": "stdout",
     "output_type": "stream",
     "text": [
      "value of 0.05 in chi-table :  7.814727903251179\n"
     ]
    }
   ],
   "source": [
    "# We will take reference of 95%,so our significance-level(α)=0.05 and df(degree of freedom)=n-1 that is 4-1=>3\n",
    "print(\"value of 0.05 in chi-table : \",sts.chi2.ppf(0.95,3))"
   ]
  },
  {
   "cell_type": "markdown",
   "metadata": {},
   "source": [
    "Conclusion: The critical value of Chi-Square for a 0.05 significance level and 3 d.f. is 7.82. Our obtained Chi-Square value is bigger than this, and so we conclude that our obtained value is unlikely to have occurred merely by chance. In fact, our obtained value is bigger than the critical Chi-Square value for the 0.01 significance level (13.28). In other words, it is possible that our obtained Chi-Square value is due merely to chance, but highly unlikely: a Chi-Square value as large as ours will occur by chance only about once in a hundred trials. It seems more reasonable to conclude that our results are not de to chance, and that the data do indeed suggest that voters do not prefer the four candidates equally.\n",
    "\n",
    " "
   ]
  },
  {
   "attachments": {
    "image.png": {
     "image/png": "[encoded data removed]"
    }
   },
   "cell_type": "markdown",
   "metadata": {},
   "source": [
    "### Problem 20: \n",
    "Children of three ages are asked to indicate their preference for three photographs of\n",
    "adults. Do the data suggest that there is a significant relationship between age and\n",
    "photograph preference? What is wrong with this study? [Chi-Square = 29.6, with 4\n",
    "df: p̂ < 0.05].\n",
    "![image.png](attachment:image.png)"
   ]
  },
  {
   "attachments": {
    "image.png": {
     "image/png": "[encoded data removed]"
    }
   },
   "cell_type": "markdown",
   "metadata": {},
   "source": [
    "### Solution:\n",
    "![image.png](attachment:image.png)\n",
    "\n",
    "Σ (O - E)2 / E  =  3+0.89+3.33+10.29+2.33+0.71+2.57+5.76+0.71 = 29.60, with df(degree of freedom)= (rows - 1) * (columns - 1) = 2 * 2 = 4..\n"
   ]
  },
  {
   "cell_type": "code",
   "execution_count": 63,
   "metadata": {},
   "outputs": [
    {
     "data": {
      "text/plain": [
       "array([[18, 22, 20],\n",
       "       [ 2, 28, 40],\n",
       "       [20, 10, 40]])"
      ]
     },
     "execution_count": 63,
     "metadata": {},
     "output_type": "execute_result"
    }
   ],
   "source": [
    "a1 = [18,22,20]\n",
    "a2 = [2,28,40]\n",
    "a3= [20,10,40]\n",
    "result = np.array([a1,a2,a3])\n",
    "result"
   ]
  },
  {
   "cell_type": "code",
   "execution_count": 64,
   "metadata": {},
   "outputs": [
    {
     "name": "stdout",
     "output_type": "stream",
     "text": [
      "===Chi2 Stat===\n",
      "29.603174603174608\n",
      "\n",
      "\n",
      "===Degrees of Freedom===\n",
      "4\n",
      "\n",
      "\n",
      "===P-Value===\n",
      "5.894582174262606e-06\n",
      "\n",
      "\n",
      "===Contingency Table===\n",
      "[[12. 18. 30.]\n",
      " [14. 21. 35.]\n",
      " [14. 21. 35.]]\n"
     ]
    }
   ],
   "source": [
    "chi2_stat, p_val, dof, ex = sts.chi2_contingency(result)\n",
    "print(\"===Chi2 Stat===\")\n",
    "print(chi2_stat)\n",
    "print(\"\\n\")\n",
    "print(\"===Degrees of Freedom===\")\n",
    "print(dof)\n",
    "print(\"\\n\")\n",
    "print(\"===P-Value===\")\n",
    "print(p_val)\n",
    "print(\"\\n\")\n",
    "print(\"===Contingency Table===\")\n",
    "print(ex)"
   ]
  },
  {
   "cell_type": "code",
   "execution_count": 65,
   "metadata": {},
   "outputs": [
    {
     "name": "stdout",
     "output_type": "stream",
     "text": [
      "value of 0.05 in chi-table :  9.487729036781154\n"
     ]
    }
   ],
   "source": [
    "#We will take reference of 95%,so our significance-level(α)=0.05  and  df(degree of freedom)= (rows - 1) * (columns - 1) = 2 * 2 = 4\n",
    "print(\"value of 0.05 in chi-table : \",sts.chi2.ppf(0.95,4))"
   ]
  },
  {
   "cell_type": "markdown",
   "metadata": {},
   "source": [
    "Conclusion: The critical value of Chi-Square in the table for a 0.05 significance level and 4 d.f. is 9.487. Our obtained Chi-Square value is bigger than this.It seems more reasonable to accept the alternative hypothesis, that there is a significant relationship between age of child and photograph preference."
   ]
  },
  {
   "attachments": {
    "image.png": {
     "image/png": "[encoded data removed]"
    }
   },
   "cell_type": "markdown",
   "metadata": {},
   "source": [
    "### Problem 21:\n",
    "A study of conformity using the Asch paradigm involved two conditions: one where\n",
    "one confederate supported the true judgement and another where no confederate\n",
    "gave the correct response.\n",
    "![image.png](attachment:image.png)\n",
    "Is there a significant difference between the \"support\" and \"no support\" conditions in the\n",
    "frequency with which individuals are likely to conform? [Chi-Square = 19.87, with 1 df:\n",
    "𝑝 < 0.05]."
   ]
  },
  {
   "cell_type": "code",
   "execution_count": 66,
   "metadata": {},
   "outputs": [
    {
     "data": {
      "text/plain": [
       "array([[18, 40],\n",
       "       [31, 10]])"
      ]
     },
     "execution_count": 66,
     "metadata": {},
     "output_type": "execute_result"
    }
   ],
   "source": [
    "a1 = [18,40]\n",
    "a2 = [31,10]\n",
    "result = np.array([a1,a2])\n",
    "result"
   ]
  },
  {
   "cell_type": "code",
   "execution_count": 67,
   "metadata": {},
   "outputs": [
    {
     "name": "stdout",
     "output_type": "stream",
     "text": [
      "===Chi2 Stat===\n",
      "17.351215178249596\n",
      "\n",
      "\n",
      "===Degrees of Freedom===\n",
      "1\n",
      "\n",
      "\n",
      "===P-Value===\n",
      "3.1069954365391995e-05\n",
      "\n",
      "\n",
      "===Contingency Table===\n",
      "[[28.70707071 29.29292929]\n",
      " [20.29292929 20.70707071]]\n"
     ]
    }
   ],
   "source": [
    "chi2_stat, p_val, dof, ex = sts.chi2_contingency(result)\n",
    "print(\"===Chi2 Stat===\")\n",
    "print(chi2_stat)\n",
    "print(\"\\n\")\n",
    "print(\"===Degrees of Freedom===\")\n",
    "print(dof)\n",
    "print(\"\\n\")\n",
    "print(\"===P-Value===\")\n",
    "print(p_val)\n",
    "print(\"\\n\")\n",
    "print(\"===Contingency Table===\")\n",
    "print(ex)"
   ]
  },
  {
   "cell_type": "code",
   "execution_count": 68,
   "metadata": {},
   "outputs": [
    {
     "name": "stdout",
     "output_type": "stream",
     "text": [
      "value of 0.05 in chi-table :  3.841458820694124\n"
     ]
    }
   ],
   "source": [
    "#We will take reference of 95%,so our significance-level(α)=0.05  and  df(degree of freedom)= (rows - 1) * (columns - 1) = (2-1)* (2-1) = 1\n",
    "print(\"value of 0.05 in chi-table : \",sts.chi2.ppf(0.95,1))"
   ]
  },
  {
   "cell_type": "markdown",
   "metadata": {},
   "source": [
    "Conclusion: \n",
    "            Our obtained value of Chi-Squared_test  is bigger than the critical value of Chi-Squared for a 0.05 significance level.Therefore we can conclude that there is a significant difference between the \"support\" and \"no support\" conditions, in terms of the frequency with which individuals conformed."
   ]
  },
  {
   "attachments": {
    "image.png": {
     "image/png": "[encoded data removed]"
    }
   },
   "cell_type": "markdown",
   "metadata": {},
   "source": [
    "### Problem 22:\n",
    "We want to test whether short people differ with respect to their leadership qualities\n",
    "(Genghis Khan, Adolf Hitler and Napoleon were all stature-deprived, and how many midget\n",
    "MP's are there?) The following table shows the frequencies with which 43 short people and\n",
    "52 tall people were categorized as \"leaders\", \"followers\" or as \"unclassifiable\". Is there a\n",
    "relationship between height and leadership qualities?\n",
    "[Chi-Square = 10.71, with 2 df:p̂ < 0.01].\n",
    "![image.png](attachment:image.png)"
   ]
  },
  {
   "cell_type": "code",
   "execution_count": 69,
   "metadata": {},
   "outputs": [
    {
     "data": {
      "text/plain": [
       "array([[12, 32],\n",
       "       [22, 14],\n",
       "       [ 9,  6]])"
      ]
     },
     "execution_count": 69,
     "metadata": {},
     "output_type": "execute_result"
    }
   ],
   "source": [
    "a1 = [12,32]\n",
    "a2 = [22,14]\n",
    "a3 = [9,6]\n",
    "result = np.array([a1,a2,a3])\n",
    "result"
   ]
  },
  {
   "cell_type": "code",
   "execution_count": 70,
   "metadata": {},
   "outputs": [
    {
     "name": "stdout",
     "output_type": "stream",
     "text": [
      "===Chi2 Stat===\n",
      "10.712198008709638\n",
      "\n",
      "\n",
      "===Degrees of Freedom===\n",
      "2\n",
      "\n",
      "\n",
      "===P-Value===\n",
      "0.004719280137040844\n",
      "\n",
      "\n",
      "===Contingency Table===\n",
      "[[19.91578947 24.08421053]\n",
      " [16.29473684 19.70526316]\n",
      " [ 6.78947368  8.21052632]]\n"
     ]
    }
   ],
   "source": [
    "chi2_stat, p_val, dof, ex = sts.chi2_contingency(result)\n",
    "print(\"===Chi2 Stat===\")\n",
    "print(chi2_stat)\n",
    "print(\"\\n\")\n",
    "print(\"===Degrees of Freedom===\")\n",
    "print(dof)\n",
    "print(\"\\n\")\n",
    "print(\"===P-Value===\")\n",
    "print(p_val)\n",
    "print(\"\\n\")\n",
    "print(\"===Contingency Table===\")\n",
    "print(ex)"
   ]
  },
  {
   "cell_type": "code",
   "execution_count": 71,
   "metadata": {},
   "outputs": [
    {
     "name": "stdout",
     "output_type": "stream",
     "text": [
      "value of 0.01 in chi-table :  9.21034037197618\n"
     ]
    }
   ],
   "source": [
    "#We will take reference of 99%,so our significance-level(α)=0.01  and  df(degree of freedom)= (rows - 1) * (columns - 1) = (3-1) * (2-1) = 2\n",
    "print(\"value of 0.01 in chi-table : \",sts.chi2.ppf(0.99,2))"
   ]
  },
  {
   "cell_type": "markdown",
   "metadata": {},
   "source": [
    "Conclusion: 10.712 is bigger than the tabulated value of Chi-Square at the 0.01 significance level. We would conclude that there seems to be a relationship between height and leadership qualities. Note that we can only say that there is a relationship between our two variables, not that once causes the other. There could be all kinds of explanations for such a relationship."
   ]
  },
  {
   "attachments": {
    "image.png": {
     "image/png": "[encoded data removed]"
    }
   },
   "cell_type": "markdown",
   "metadata": {},
   "source": [
    "### Problem 23:\n",
    "Each respondent in the Current Population Survey of March 1993 was classified as\n",
    "employed, unemployed, or outside the labor force. The results for men in California age 35-\n",
    "44 can be cross-tabulated by marital status, as follows:\n",
    "![image.png](attachment:image.png)\n",
    "Men of different marital status seem to have different distributions of labor force status. Or is\n",
    "this just chance variation? (you may assume the table results from a simple random\n",
    "sample.)"
   ]
  },
  {
   "cell_type": "markdown",
   "metadata": {},
   "source": [
    "#### Solution:\n",
    "𝐻0: Rows and columns are independent. (null-hypothesis)\n",
    "\n",
    "𝐻1:  There is a relationship between rows and columns.(alternative-hypothesis)"
   ]
  },
  {
   "cell_type": "code",
   "execution_count": 72,
   "metadata": {},
   "outputs": [
    {
     "data": {
      "text/plain": [
       "array([[679, 103, 114],\n",
       "       [ 63,  10,  20],\n",
       "       [ 42,  18,  25]])"
      ]
     },
     "execution_count": 72,
     "metadata": {},
     "output_type": "execute_result"
    }
   ],
   "source": [
    "a1 = [679,103,114]\n",
    "a2 =[ 63,10,20]\n",
    "a3 = [42,18,25]\n",
    "result = np.array([a1,a2,a3])\n",
    "result"
   ]
  },
  {
   "cell_type": "code",
   "execution_count": 73,
   "metadata": {},
   "outputs": [
    {
     "name": "stdout",
     "output_type": "stream",
     "text": [
      "===Chi2 Stat===\n",
      "31.61310319407798\n",
      "\n",
      "\n",
      "===Degrees of Freedom===\n",
      "4\n",
      "\n",
      "\n",
      "===P-Value===\n",
      "2.2949883042859918e-06\n",
      "\n",
      "\n",
      "===Contingency Table===\n",
      "[[654.06331471 109.2886406  132.64804469]\n",
      " [ 67.88826816  11.34357542  13.76815642]\n",
      " [ 62.04841713  10.36778399  12.58379888]]\n"
     ]
    }
   ],
   "source": [
    "chi2_stat, p_val, dof, ex = sts.chi2_contingency(result)\n",
    "print(\"===Chi2 Stat===\")\n",
    "print(chi2_stat)\n",
    "print(\"\\n\")\n",
    "print(\"===Degrees of Freedom===\")\n",
    "print(dof)\n",
    "print(\"\\n\")\n",
    "print(\"===P-Value===\")\n",
    "print(p_val)\n",
    "print(\"\\n\")\n",
    "print(\"===Contingency Table===\")\n",
    "print(ex)"
   ]
  },
  {
   "cell_type": "code",
   "execution_count": 74,
   "metadata": {},
   "outputs": [
    {
     "name": "stdout",
     "output_type": "stream",
     "text": [
      "value of 0.05 in chi-table :  9.487729036781154\n"
     ]
    }
   ],
   "source": [
    "#We will take reference of 95%,so our significance-level(α)=0.05  and  df(degree of freedom)= (rows - 1) * (columns - 1) = (3-1)* (3-1) = 4\n",
    "print(\"value of 0.05 in chi-table : \",sts.chi2.ppf(0.95,4))"
   ]
  },
  {
   "cell_type": "markdown",
   "metadata": {},
   "source": [
    "Conclusion: Value of Chi2_test that is 31.61 is bigger than the tabulated value of Chi-Square at the 0.05 significance level.We reject the null hypothesis,there is a relationship between rows and columns.\n"
   ]
  },
  {
   "cell_type": "code",
   "execution_count": null,
   "metadata": {},
   "outputs": [],
   "source": []
  },
  {
   "cell_type": "code",
   "execution_count": null,
   "metadata": {},
   "outputs": [],
   "source": []
  },
  {
   "cell_type": "code",
   "execution_count": null,
   "metadata": {},
   "outputs": [],
   "source": []
  },
  {
   "cell_type": "code",
   "execution_count": null,
   "metadata": {},
   "outputs": [],
   "source": []
  },
  {
   "cell_type": "code",
   "execution_count": null,
   "metadata": {},
   "outputs": [],
   "source": []
  }
 ],
 "metadata": {
  "kernelspec": {
   "display_name": "Python 3",
   "language": "python",
   "name": "python3"
  },
  "language_info": {
   "codemirror_mode": {
    "name": "ipython",
    "version": 3
   },
   "file_extension": ".py",
   "mimetype": "text/x-python",
   "name": "python",
   "nbconvert_exporter": "python",
   "pygments_lexer": "ipython3",
   "version": "3.8.3"
  }
 },
 "nbformat": 4,
 "nbformat_minor": 4
}
