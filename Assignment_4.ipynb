{
 "cells": [
  {
   "cell_type": "markdown",
   "metadata": {},
   "source": [
    "## 1.1 Write a Python Program(with class concepts) to find the area of the triangle using the below  formula:-area = (s*(s-a)*(s-b)*(s-c)) ** 0.5\n",
    "Function to take the length of the sides of triangle from user should be defined in the parent\n",
    "class and function to calculate the area should be defined in subclass."
   ]
  },
  {
   "cell_type": "code",
   "execution_count": 1,
   "metadata": {},
   "outputs": [],
   "source": [
    "class triangle_sides():\n",
    "    def __init__(self):\n",
    "        self.a=float(input(\"Enter the first side of triangle: \"))\n",
    "        self.b=float(input(\"Enter the second side of traingle: \"))\n",
    "        self.c=float(input(\"Enter the third side of triangle: \"))\n",
    "\n",
    "class Area_Of_triangle(triangle_sides):\n",
    "    def area(self):\n",
    "        s=(self.a + self.b +self.c)/2\n",
    "        area = (s*(s-self.a)*(s-self.b)*(s-self.c)) ** 0.5\n",
    "        print(\"Area of triangle is : {:.3f}\" .format(area) + \"cm\\u00b2\")\n",
    "   "
   ]
  },
  {
   "cell_type": "code",
   "execution_count": 2,
   "metadata": {},
   "outputs": [
    {
     "name": "stdout",
     "output_type": "stream",
     "text": [
      "Enter the first side of triangle: 9\n",
      "Enter the second side of traingle: 10\n",
      "Enter the third side of triangle: 11\n",
      "Area of triangle is : 42.426cm²\n"
     ]
    }
   ],
   "source": [
    "result= Area_Of_triangle()\n",
    "result.area()"
   ]
  },
  {
   "cell_type": "markdown",
   "metadata": {},
   "source": [
    "## 1.2 Write a function filter_long_words() that takes a list of words and an integer n and returns the list of words that are longer than n."
   ]
  },
  {
   "cell_type": "code",
   "execution_count": 3,
   "metadata": {},
   "outputs": [],
   "source": [
    "def filter_long_words(words,n):\n",
    "    l=list()\n",
    "    for i in words:\n",
    "        if len(i)>n:\n",
    "            l.append(i)\n",
    "    print(\"Longest words are:\",l)\n",
    "            "
   ]
  },
  {
   "cell_type": "code",
   "execution_count": 4,
   "metadata": {},
   "outputs": [
    {
     "name": "stdout",
     "output_type": "stream",
     "text": [
      "Longest words are: ['Data Science', 'ineuron', 'machine learning', 'python', 'practice']\n"
     ]
    }
   ],
   "source": [
    "a=[\"Data Science\",\"ineuron\",\"machine learning\",\"AI\",\"Hello\",\"skill\",\"python\",\"practice\"]\n",
    "filter_long_words(a,5)"
   ]
  },
  {
   "cell_type": "markdown",
   "metadata": {},
   "source": [
    "## 2.1 Write a Python program using function concept that maps list of words into a list of integers representing the lengths of the corresponding words.\n",
    "### Hint:- If a list [ ab,cde,erty] is passed on to the python function output should come as [2,3,4].Here 2,3 and 4 are the lengths of the words in the list."
   ]
  },
  {
   "cell_type": "code",
   "execution_count": 5,
   "metadata": {},
   "outputs": [],
   "source": [
    "def length_words(lst):\n",
    "    return  len(lst)"
   ]
  },
  {
   "cell_type": "code",
   "execution_count": 6,
   "metadata": {},
   "outputs": [
    {
     "data": {
      "text/plain": [
       "[2, 3, 4, 5, 5, 5, 7]"
      ]
     },
     "execution_count": 6,
     "metadata": {},
     "output_type": "execute_result"
    }
   ],
   "source": [
    "a=[ \"ab\",\"cde\",\"erty\",\"hello\",\"world\",\"skill\",\"Awesome\"] \n",
    "result=list(map(length_words,a))\n",
    "result"
   ]
  },
  {
   "cell_type": "markdown",
   "metadata": {},
   "source": [
    "## 2.2 Write a Python function which takes a character (i.e. a string of length 1) and returns True if it is a vowel, False otherwise."
   ]
  },
  {
   "cell_type": "code",
   "execution_count": 7,
   "metadata": {},
   "outputs": [],
   "source": [
    "def check_vowel(ch):\n",
    "    if ch == \"a\" or ch == \"A\" or ch == \"e\" or ch == \"E\" or ch == \"i\" or ch == \"I\" or ch == \"o\" or ch == \"O\" or ch == \"u\" or ch == \"U\":\n",
    "            return True\n",
    "    else:\n",
    "         return False \n",
    "        "
   ]
  },
  {
   "cell_type": "code",
   "execution_count": 8,
   "metadata": {},
   "outputs": [
    {
     "name": "stdout",
     "output_type": "stream",
     "text": [
      "Enter the character: u\n"
     ]
    },
    {
     "data": {
      "text/plain": [
       "True"
      ]
     },
     "execution_count": 8,
     "metadata": {},
     "output_type": "execute_result"
    }
   ],
   "source": [
    "check_vowel(input(\"Enter the character: \"))"
   ]
  },
  {
   "cell_type": "code",
   "execution_count": null,
   "metadata": {},
   "outputs": [],
   "source": []
  }
 ],
 "metadata": {
  "kernelspec": {
   "display_name": "Python 3",
   "language": "python",
   "name": "python3"
  },
  "language_info": {
   "codemirror_mode": {
    "name": "ipython",
    "version": 3
   },
   "file_extension": ".py",
   "mimetype": "text/x-python",
   "name": "python",
   "nbconvert_exporter": "python",
   "pygments_lexer": "ipython3",
   "version": "3.8.3"
  }
 },
 "nbformat": 4,
 "nbformat_minor": 4
}
