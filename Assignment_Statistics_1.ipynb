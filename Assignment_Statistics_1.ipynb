{
 "cells": [
  {
   "cell_type": "markdown",
   "metadata": {},
   "source": [
    "### Calculate the mean, median, mode and standard deviation for the problem statements 1&2"
   ]
  },
  {
   "cell_type": "markdown",
   "metadata": {},
   "source": [
    "### Problem Statement 1:\n",
    "The marks awarded for an assignment set for a Year 8 class of 20 students were as\n",
    "follows:-\n",
    "6,7,5,7,7,8,7,6,9,7,4,10,6,8,8,9,5,6,4,8"
   ]
  },
  {
   "cell_type": "code",
   "execution_count": 1,
   "metadata": {},
   "outputs": [
    {
     "name": "stdout",
     "output_type": "stream",
     "text": [
      "Mean =  6.85\n",
      "Median =  7.0\n",
      "ModeResult(mode=array([7]), count=array([5]))\n",
      "Variance =  2.5275000000000003\n",
      "Standard Deviation = 1.5898113095584647\n"
     ]
    }
   ],
   "source": [
    "import numpy as np\n",
    "from scipy import stats\n",
    "a= [6,7 ,5,7,7,8,7,6,9,7,4,10,6,8,8,9,5,6,4,8]\n",
    "print(\"Mean = \",np.mean(a))\n",
    "print(\"Median = \",np.median(a))\n",
    "print(stats.mode(a))\n",
    "print(\"Variance = \",np.var(a))\n",
    "print(\"Standard Deviation =\",np.std(a))"
   ]
  },
  {
   "cell_type": "markdown",
   "metadata": {},
   "source": [
    "## Problem Statement 2:\n",
    "The number of calls from motorists per day for roadside service was recorded for a\n",
    "particular month-\n",
    "28, 122, 217, 130, 120, 86, 80, 90, 140, 120, 70, 40, 145, 113, 90, 68, 174, 194, 170,\n",
    "100, 75, 104, 97, 75,\n",
    "123, 100, 75, 104, 97, 75, 123, 100, 89, 120, 109"
   ]
  },
  {
   "cell_type": "code",
   "execution_count": 2,
   "metadata": {},
   "outputs": [
    {
     "name": "stdout",
     "output_type": "stream",
     "text": [
      "Mean =  107.51428571428572\n",
      "Median =  100.0\n",
      "ModeResult(mode=array([75]), count=array([4]))\n",
      "Variance =  1503.3355102040816\n",
      "Standard Deviation = 38.77287080168403\n"
     ]
    }
   ],
   "source": [
    "b= [28, 122, 217, 130, 120, 86, 80, 90, 140, 120, 70, 40, 145, 113, 90, 68, 174, 194, 170,100, 75, 104, 97, 75,123, 100, 75, 104, 97, 75, 123, 100, 89, 120, 109 ]\n",
    "print(\"Mean = \",np.mean(b))\n",
    "print(\"Median = \",np.median(b))\n",
    "print(stats.mode(b))\n",
    "print(\"Variance = \",np.var(b))\n",
    "print(\"Standard Deviation =\",np.std(b))"
   ]
  },
  {
   "cell_type": "markdown",
   "metadata": {},
   "source": [
    "## Problem Statement 3:\n",
    "The number of times I go to the gym in weekdays, are given below along with its\n",
    "associated probability:\n",
    "##### x = 0, 1, 2, 3, 4, 5\n",
    "#### f(x) = 0.09, 0.15, 0.40, 0.25, 0.10, 0.01\n",
    "Calculate the mean no. of workouts in a week. Also evaluate the variance involved in\n",
    "it."
   ]
  },
  {
   "cell_type": "code",
   "execution_count": 3,
   "metadata": {},
   "outputs": [],
   "source": [
    "x = [0, 1, 2, 3, 4, 5]\n",
    "prob= [0.09, 0.15, 0.40, 0.25, 0.10, 0.01]"
   ]
  },
  {
   "cell_type": "code",
   "execution_count": 4,
   "metadata": {},
   "outputs": [
    {
     "name": "stdout",
     "output_type": "stream",
     "text": [
      "[0, 1, 4, 9, 16, 25]\n"
     ]
    }
   ],
   "source": [
    "x2= [n ** 2 for n in x]\n",
    "print(x2)"
   ]
  },
  {
   "cell_type": "code",
   "execution_count": 5,
   "metadata": {},
   "outputs": [
    {
     "name": "stdout",
     "output_type": "stream",
     "text": [
      "Mean is :  2.15\n"
     ]
    }
   ],
   "source": [
    "Ex = []\n",
    "for num1, num2 in zip(x, prob):\n",
    "    Ex.append(num1 * num2)\n",
    "print(\"Mean is : \",sum(Ex)) "
   ]
  },
  {
   "cell_type": "code",
   "execution_count": 6,
   "metadata": {},
   "outputs": [
    {
     "name": "stdout",
     "output_type": "stream",
     "text": [
      "5.85\n"
     ]
    }
   ],
   "source": [
    "Ex2=[]\n",
    "for num1,num2 in zip(x2,prob):\n",
    "    Ex2.append(num1*num2)\n",
    "print(sum(Ex2))\n"
   ]
  },
  {
   "cell_type": "code",
   "execution_count": 7,
   "metadata": {},
   "outputs": [
    {
     "name": "stdout",
     "output_type": "stream",
     "text": [
      "Variance is :  1.2275\n"
     ]
    }
   ],
   "source": [
    "v= np.sum(Ex2)-np.square(sum(Ex))\n",
    "print(\"Variance is : \",v)"
   ]
  },
  {
   "cell_type": "markdown",
   "metadata": {},
   "source": [
    "### Problem Statement 4:\n",
    "Let the continuous random variable D denote the diameter of the hole drilled in an\n",
    "aluminum sheet. The target diameter to be achieved is 12.5mm. Random\n",
    "disturbances in the process often result in inaccuracy.\n",
    "Historical data shows that the distribution of D can be modelled by the PDF (𝑑) =\n",
    "20𝑒−20(𝑑−12.5), 𝑑 ≥ 12.5. If a part with diameter > 12.6 mm needs to be scrapped,\n",
    "what is the proportion of those parts? What is the CDF when the diameter is of 11\n",
    "mm? What is your conclusion regarding the proportion of scraps?"
   ]
  },
  {
   "cell_type": "code",
   "execution_count": null,
   "metadata": {},
   "outputs": [],
   "source": []
  },
  {
   "cell_type": "code",
   "execution_count": null,
   "metadata": {},
   "outputs": [],
   "source": []
  },
  {
   "cell_type": "code",
   "execution_count": null,
   "metadata": {},
   "outputs": [],
   "source": []
  },
  {
   "cell_type": "markdown",
   "metadata": {},
   "source": [
    "## Problem Statement 5:\n",
    "A company manufactures LED bulbs with a faulty rate of 30%. If I randomly select 6\n",
    "chosen LEDs, what is the probability of having 2 faulty LEDs in my sample?\n",
    "Calculate the average value of this process. Also evaluate the standard deviation\n",
    "associated with it."
   ]
  },
  {
   "cell_type": "code",
   "execution_count": 8,
   "metadata": {},
   "outputs": [
    {
     "name": "stdout",
     "output_type": "stream",
     "text": [
      "Probability will be : 0.32413499999999995\n",
      "CDF will be : 0.74431\n"
     ]
    }
   ],
   "source": [
    "p=0.3 ### Faulty LED's\n",
    "q=0.7 ### No-Faulty(1-p)\n",
    "n=6  ### randomly selcted 6 sample\n",
    "k=2  ### number of trail that will be successed \n",
    "size=100 ##Total number of random samples\n",
    "\n",
    "#Probability of getting faulty out of 6 trials\n",
    "from scipy.stats import binom\n",
    "import matplotlib.pyplot as plt\n",
    "import math\n",
    "import seaborn as sns\n",
    "probab=binom.pmf(k=2,n=6,p=0.3)\n",
    "print(\"Probability will be :\",probab)\n",
    "cdf=binom.cdf(k=2,n=6,p=0.3)\n",
    "print(\"CDF will be :\",cdf)"
   ]
  },
  {
   "cell_type": "code",
   "execution_count": 9,
   "metadata": {},
   "outputs": [
    {
     "data": {
      "text/plain": [
       "<matplotlib.axes._subplots.AxesSubplot at 0x26f995cbfd0>"
      ]
     },
     "execution_count": 9,
     "metadata": {},
     "output_type": "execute_result"
    },
    {
     "data": {
      "image/png": "[encoded data removed]",
      "text/plain": [
       "<Figure size 432x288 with 1 Axes>"
      ]
     },
     "metadata": {
      "needs_background": "light"
     },
     "output_type": "display_data"
    }
   ],
   "source": [
    "binomial_data=binom.rvs(n=6,p=0.3,size=1000)\n",
    "sns.distplot(binomial_data,hist=True,kde=True,color=\"blue\")"
   ]
  },
  {
   "cell_type": "code",
   "execution_count": 10,
   "metadata": {},
   "outputs": [
    {
     "name": "stdout",
     "output_type": "stream",
     "text": [
      "mean :=  1.7999999999999998\n",
      "standard deviation := 1.1224972160321822\n"
     ]
    }
   ],
   "source": [
    "mean,var=binom.stats(n=6,p=0.3)\n",
    "print(\"mean := \",mean)\n",
    "print(\"standard deviation :=\",math.sqrt(var))"
   ]
  },
  {
   "cell_type": "markdown",
   "metadata": {},
   "source": [
    "## Problem Statement 6:\n",
    "Gaurav and Barakha are both preparing for entrance exams. Gaurav attempts to\n",
    "solve 8 questions per day with a correction rate of 75%, while Barakha averages\n",
    "around 12 questions per day with a correction rate of 45%. What is the probability\n",
    "that each of them will solve 5 questions correctly? What happens in cases of 4 and 6\n",
    "correct solutions? What do you infer from it? What are the two main governing\n",
    "factors affecting their ability to solve questions correctly? Give a pictorial\n",
    "representation of the same to validate your answer."
   ]
  },
  {
   "cell_type": "code",
   "execution_count": 11,
   "metadata": {},
   "outputs": [
    {
     "name": "stdout",
     "output_type": "stream",
     "text": [
      "Probability of Gaurav(5 question is correct)  : 0.20764160156250022\n",
      "Probability of Gaurav(4 question is correct)  : 0.08651733398437506\n",
      "Probability of Gaurav(6 question is correct)  : 0.31146240234375017\n",
      "CDF will be : 0.6329193115234373\n"
     ]
    }
   ],
   "source": [
    "p=0.75 ### Gaurav Correction rate\n",
    "q=0.25 ### Gaurav incorrect rate(1-p)\n",
    "n=8  ### Gaurav solve  8 questions per-day\n",
    "k=5 ### Probablity of 5 correct solution \n",
    "size=100 ##Total number of random samples\n",
    "probab1=binom.pmf(k=5,n=8,p=0.75)\n",
    "probab2=binom.pmf(k=4,n=8,p=0.75)\n",
    "probab3=binom.pmf(k=6,n=8,p=0.75)\n",
    "print(\"Probability of Gaurav(5 question is correct)  :\",probab1)\n",
    "print(\"Probability of Gaurav(4 question is correct)  :\",probab2)\n",
    "print(\"Probability of Gaurav(6 question is correct)  :\",probab3)\n",
    "cdf=binom.cdf(k=6,n=8,p=0.75)\n",
    "print(\"CDF will be :\",cdf)"
   ]
  },
  {
   "cell_type": "code",
   "execution_count": 12,
   "metadata": {},
   "outputs": [
    {
     "data": {
      "text/plain": [
       "<matplotlib.axes._subplots.AxesSubplot at 0x26f9c831d00>"
      ]
     },
     "execution_count": 12,
     "metadata": {},
     "output_type": "execute_result"
    },
    {
     "data": {
      "image/png": "[encoded data removed]",
      "text/plain": [
       "<Figure size 432x288 with 1 Axes>"
      ]
     },
     "metadata": {
      "needs_background": "light"
     },
     "output_type": "display_data"
    }
   ],
   "source": [
    "binomial_data=binom.rvs(n=8,p=0.75,size=1000)\n",
    "sns.distplot(binomial_data,hist=True,kde=True,color=\"green\")"
   ]
  },
  {
   "cell_type": "code",
   "execution_count": 13,
   "metadata": {},
   "outputs": [
    {
     "name": "stdout",
     "output_type": "stream",
     "text": [
      "mean :=  6.0\n",
      "standard deviation := 1.224744871391589\n"
     ]
    }
   ],
   "source": [
    "mean,var=binom.stats(n=8,p=0.75)\n",
    "print(\"mean := \",mean)\n",
    "print(\"standard deviation :=\",math.sqrt(var))"
   ]
  },
  {
   "cell_type": "code",
   "execution_count": 14,
   "metadata": {},
   "outputs": [
    {
     "name": "stdout",
     "output_type": "stream",
     "text": [
      "Probability of Brakha(5 question is correct)  : 0.22249823843265792\n",
      "Probability of Barkha(4 question is correct)  : 0.16996393213605795\n",
      "Probability of Barkha(6 question is correct)  : 0.21238468214026424\n",
      "CDF will be : 0.7393149218989801\n"
     ]
    }
   ],
   "source": [
    "r=0.45 ### Barkha correct rate\n",
    "s=0.55 ### Barkha incorrect rate(1-p)\n",
    "n=12  ### Barkha solve 12 question per-day\n",
    "k=5   ### Probablity of 5 correct solution\n",
    "probab4=binom.pmf(k=5,n=12,p=0.45)\n",
    "probab5=binom.pmf(k=4,n=12,p=0.45)\n",
    "probab6=binom.pmf(k=6,n=12,p=0.45)\n",
    "print(\"Probability of Brakha(5 question is correct)  :\",probab4)\n",
    "print(\"Probability of Barkha(4 question is correct)  :\",probab5)\n",
    "print(\"Probability of Barkha(6 question is correct)  :\",probab6)\n",
    "cdf=binom.cdf(k=6,n=12,p=0.45)\n",
    "print(\"CDF will be :\",cdf)"
   ]
  },
  {
   "cell_type": "code",
   "execution_count": 15,
   "metadata": {},
   "outputs": [
    {
     "data": {
      "text/plain": [
       "<matplotlib.axes._subplots.AxesSubplot at 0x26f9c962b20>"
      ]
     },
     "execution_count": 15,
     "metadata": {},
     "output_type": "execute_result"
    },
    {
     "data": {
      "image/png": "[encoded data removed]",
      "text/plain": [
       "<Figure size 432x288 with 1 Axes>"
      ]
     },
     "metadata": {
      "needs_background": "light"
     },
     "output_type": "display_data"
    }
   ],
   "source": [
    "binomial_data=binom.rvs(n=12,p=0.45,size=1000)\n",
    "sns.distplot(binomial_data,hist=True,kde=True,color=\"violet\")"
   ]
  },
  {
   "cell_type": "code",
   "execution_count": 16,
   "metadata": {},
   "outputs": [
    {
     "name": "stdout",
     "output_type": "stream",
     "text": [
      "mean :=  5.4\n",
      "standard deviation := 1.7233687939614089\n"
     ]
    }
   ],
   "source": [
    "mean,var=binom.stats(n=12,p=0.45)\n",
    "print(\"mean := \",mean)\n",
    "print(\"standard deviation :=\",math.sqrt(var))"
   ]
  },
  {
   "cell_type": "markdown",
   "metadata": {},
   "source": [
    "## Problem Statement 7:\n",
    "Customers arrive at a rate of 72 per hour to my shop. What is the probability of 𝑘\n",
    "customers arriving in 4 minutes? a) 5 customers, b) not more than 3 customers, c)\n",
    "more than 3 customers. Give a pictorial representation of the same to validate your\n",
    "answer. "
   ]
  },
  {
   "cell_type": "code",
   "execution_count": 17,
   "metadata": {},
   "outputs": [
    {
     "data": {
      "text/plain": [
       "<matplotlib.axes._subplots.AxesSubplot at 0x26f9c9e8850>"
      ]
     },
     "execution_count": 17,
     "metadata": {},
     "output_type": "execute_result"
    },
    {
     "data": {
      "image/png": "[encoded data removed]",
      "text/plain": [
       "<Figure size 432x288 with 1 Axes>"
      ]
     },
     "metadata": {
      "needs_background": "light"
     },
     "output_type": "display_data"
    }
   ],
   "source": [
    "from scipy.stats import poisson\n",
    "import matplotlib.pyplot as plt\n",
    "import seaborn as sns\n",
    "poisson_data=poisson.rvs(mu=4.8,size=1000)\n",
    "sns.distplot(poisson_data,hist=True,kde=True,color=\"red\")"
   ]
  },
  {
   "cell_type": "code",
   "execution_count": 18,
   "metadata": {},
   "outputs": [
    {
     "name": "stdout",
     "output_type": "stream",
     "text": [
      "a) 5 Cutomers:  0.17474768364388296\n",
      "b) Not more than 3 Customers:  0.28600016944754403\n",
      "c) More than 5 Cutomers:  0.5084672183804647\n"
     ]
    }
   ],
   "source": [
    "from scipy.stats import poisson\n",
    "probab1=poisson.pmf(k=5,mu=4.8) \n",
    "probab2=sum(poisson.pmf(k=[1,2,3],mu=4.8))\n",
    "probab3=sum(poisson.pmf(k=[3,4,5],mu=4.8))\n",
    "print(\"a) 5 Cutomers: \",probab1)\n",
    "print(\"b) Not more than 3 Customers: \",probab2)\n",
    "print(\"c) More than 5 Cutomers: \",probab3)"
   ]
  },
  {
   "cell_type": "markdown",
   "metadata": {},
   "source": [
    "## Problem Statement 8:\n",
    "I work as a data analyst in Aeon Learning Pvt. Ltd. After analyzing data, I make\n",
    "reports, where I have the efficiency of entering 77 words per minute with 6 errors per\n",
    "hour. What is the probability that I will commit 2 errors in a 455-word financial report?\n",
    "What happens when the no. of words increases/decreases (in case of 1000 words,\n",
    "255 words)?\n",
    "How is the 𝜆 affected?\n",
    "How does it influence the PMF?\n",
    "Give a pictorial representation of the same to validate your answer."
   ]
  },
  {
   "cell_type": "code",
   "execution_count": null,
   "metadata": {},
   "outputs": [],
   "source": []
  },
  {
   "cell_type": "code",
   "execution_count": null,
   "metadata": {},
   "outputs": [],
   "source": []
  },
  {
   "cell_type": "code",
   "execution_count": null,
   "metadata": {},
   "outputs": [],
   "source": []
  },
  {
   "cell_type": "markdown",
   "metadata": {},
   "source": [
    "## Problem Statement 9:\n",
    "Please compute the following:\n",
    "#### a) P(Z > 1.26), . P(Z < −0.86), P(Z > −1.37), P(−1.25 < Z < 0.37), . P(Z ≤ −4.6)\n",
    "#### b) Find the value 𝑧 such that 𝑃(𝑍 > 𝑧) = 0.05\n",
    "#### c) Find the value of 𝑧 such that 𝑃(−𝑧 < 𝑍 < 𝑧) = 0.99\n"
   ]
  },
  {
   "cell_type": "code",
   "execution_count": 19,
   "metadata": {},
   "outputs": [
    {
     "name": "stdout",
     "output_type": "stream",
     "text": [
      "Z-score value of z > 1.26 is:  0.10383468112130045\n"
     ]
    }
   ],
   "source": [
    "# a) \n",
    "\n",
    "from scipy.stats import norm\n",
    "print(\"Z-score value of z > 1.26 is: \",1- stats.norm.cdf(1.26))"
   ]
  },
  {
   "cell_type": "code",
   "execution_count": 20,
   "metadata": {},
   "outputs": [
    {
     "name": "stdout",
     "output_type": "stream",
     "text": [
      "Z-score value of z < -0.86 is: 0.1948945212518084\n"
     ]
    }
   ],
   "source": [
    "print(\"Z-score value of z < -0.86 is:\",stats.norm.cdf(-0.86))"
   ]
  },
  {
   "cell_type": "code",
   "execution_count": 21,
   "metadata": {},
   "outputs": [
    {
     "name": "stdout",
     "output_type": "stream",
     "text": [
      "Z-score value of z > -1.37 is : 0.914656549178033\n"
     ]
    }
   ],
   "source": [
    "print(\"Z-score value of z > -1.37 is :\",1 - stats.norm.cdf(-1.37))"
   ]
  },
  {
   "cell_type": "code",
   "execution_count": 22,
   "metadata": {},
   "outputs": [
    {
     "name": "stdout",
     "output_type": "stream",
     "text": [
      "Z-score value of -1.25 < z < 0.37 is : 0.5386589811336914\n"
     ]
    }
   ],
   "source": [
    "print(\"Z-score value of -1.25 < z < 0.37 is :\",stats.norm.cdf(0.37)-stats.norm.cdf(-1.25))"
   ]
  },
  {
   "cell_type": "code",
   "execution_count": 23,
   "metadata": {},
   "outputs": [
    {
     "name": "stdout",
     "output_type": "stream",
     "text": [
      "Z-score value of z <= -4.6 is: 2.1124547025028537e-06\n"
     ]
    }
   ],
   "source": [
    "print(\"Z-score value of z <= -4.6 is:\",stats.norm.cdf(-4.6))"
   ]
  },
  {
   "cell_type": "code",
   "execution_count": 24,
   "metadata": {},
   "outputs": [
    {
     "name": "stdout",
     "output_type": "stream",
     "text": [
      "The value of z is :  -0.06270677794321385\n"
     ]
    }
   ],
   "source": [
    "## b) Find the value 𝑧 such that 𝑃(𝑍 > 𝑧) = 0.05\n",
    "alfa=1-0.05\n",
    "alfa/2\n",
    "z_value=stats.norm.ppf(alfa/2)\n",
    "print(\"The value of z is : \",z_value)"
   ]
  },
  {
   "cell_type": "code",
   "execution_count": 25,
   "metadata": {},
   "outputs": [
    {
     "name": "stdout",
     "output_type": "stream",
     "text": [
      "The value of z is : + -2.5758293035489004\n"
     ]
    }
   ],
   "source": [
    "## c) Find the value of 𝑧 such that 𝑃(−𝑧 < 𝑍 < 𝑧) = 0.99\n",
    "alpha = 1- 0.99\n",
    "alpha/2\n",
    "z=stats.norm.ppf(alpha/2) \n",
    "print(\"The value of z is : +\",z)"
   ]
  },
  {
   "cell_type": "markdown",
   "metadata": {},
   "source": [
    "## Problem Statement 10:\n",
    "The current flow in a copper wire follow a normal distribution with a mean of 10 𝑚A\n",
    "and a variance of 4 (𝑚𝐴)2.\n",
    "What is the probability that a current measurement will exceed 13 𝑚𝐴? What is the\n",
    "probability that a current measurement is between 9 and 11mA? Determine the\n",
    "current measurement which has a probability of 0.98."
   ]
  },
  {
   "cell_type": "code",
   "execution_count": 26,
   "metadata": {},
   "outputs": [
    {
     "name": "stdout",
     "output_type": "stream",
     "text": [
      "Standard deviation is :  2.0\n"
     ]
    }
   ],
   "source": [
    "mean = 10\n",
    "variance = 4\n",
    "sd = variance **1/2\n",
    "print(\"Standard deviation is : \",sd)"
   ]
  },
  {
   "cell_type": "code",
   "execution_count": 27,
   "metadata": {},
   "outputs": [
    {
     "name": "stdout",
     "output_type": "stream",
     "text": [
      "The value of z is :  1.5\n",
      "Probablity that current measurement will exceed (x >13) is :  0.06680720126885809\n"
     ]
    }
   ],
   "source": [
    "# current measurement will exceed 13 𝑚𝐴\n",
    "x=13\n",
    "z=(x-mean)/sd  #using z-forumula\n",
    "print(\"The value of z is : \",z)\n",
    "P= 1-stats.norm.cdf(z)\n",
    "print(\"Probablity that current measurement will exceed (x >13) is : \",P)"
   ]
  },
  {
   "cell_type": "code",
   "execution_count": 28,
   "metadata": {},
   "outputs": [
    {
     "name": "stdout",
     "output_type": "stream",
     "text": [
      "The value of z1 is : -0.5\n",
      "The value of z2 is : 0.5\n"
     ]
    }
   ],
   "source": [
    "#  current measurement is between 9 and 11mA\n",
    "x1=9\n",
    "x2=11\n",
    "z1= (x1-mean)/sd\n",
    "z2= (x2-mean)/sd\n",
    "print(\"The value of z1 is :\",z1)\n",
    "print(\"The value of z2 is :\",z2)"
   ]
  },
  {
   "cell_type": "code",
   "execution_count": 29,
   "metadata": {},
   "outputs": [
    {
     "data": {
      "text/plain": [
       "0.3085375387259869"
      ]
     },
     "execution_count": 29,
     "metadata": {},
     "output_type": "execute_result"
    }
   ],
   "source": [
    "P1= stats.norm.cdf(z1)\n",
    "P1"
   ]
  },
  {
   "cell_type": "code",
   "execution_count": 30,
   "metadata": {},
   "outputs": [
    {
     "data": {
      "text/plain": [
       "0.6914624612740131"
      ]
     },
     "execution_count": 30,
     "metadata": {},
     "output_type": "execute_result"
    }
   ],
   "source": [
    "P2 = stats.norm.cdf(z2)\n",
    "P2"
   ]
  },
  {
   "cell_type": "code",
   "execution_count": 31,
   "metadata": {},
   "outputs": [
    {
     "name": "stdout",
     "output_type": "stream",
     "text": [
      "The probablity of P(9 < x < 11) is :  0.38292492254802624\n"
     ]
    }
   ],
   "source": [
    "print(\"The probablity of P(9 < x < 11) is : \",P2-P1)"
   ]
  },
  {
   "cell_type": "code",
   "execution_count": 32,
   "metadata": {},
   "outputs": [
    {
     "data": {
      "text/plain": [
       "0.020000000000000018"
      ]
     },
     "execution_count": 32,
     "metadata": {},
     "output_type": "execute_result"
    }
   ],
   "source": [
    "# Determine the current measurement which has a probability of 0.98\n",
    "alpha = 0.98\n",
    "value = 1- alpha \n",
    "value"
   ]
  },
  {
   "cell_type": "code",
   "execution_count": 33,
   "metadata": {},
   "outputs": [
    {
     "data": {
      "text/plain": [
       "2.0537489106318225"
      ]
     },
     "execution_count": 33,
     "metadata": {},
     "output_type": "execute_result"
    }
   ],
   "source": [
    "z= -(stats.norm.ppf(value))\n",
    "z"
   ]
  },
  {
   "cell_type": "code",
   "execution_count": 34,
   "metadata": {},
   "outputs": [
    {
     "name": "stdout",
     "output_type": "stream",
     "text": [
      "current measurement which has a probability of 0.98 is : 14.107497821263646\n"
     ]
    }
   ],
   "source": [
    "current_measurement = z *2 + 10\n",
    "print(\"current measurement which has a probability of 0.98 is :\",current_measurement)"
   ]
  },
  {
   "cell_type": "markdown",
   "metadata": {},
   "source": [
    "## Problem Statement 11:\n",
    "The shaft in a piston has its diameter normally distributed with a mean of 0.2508 inch\n",
    "and a standard deviation of 0.0005 inch. The specifications of the shaft are 0.2500 ∓\n",
    "0.0015 inch. What proportion of shafts are in sync with the specifications? If the\n",
    "process is centered so that the mean is equal to the target value of 0.2500, what\n",
    "proportion of shafts conform to the new specifications? What is your conclusion from\n",
    "this experiment?"
   ]
  },
  {
   "cell_type": "code",
   "execution_count": 35,
   "metadata": {},
   "outputs": [
    {
     "name": "stdout",
     "output_type": "stream",
     "text": [
      "upperlimit:  0.2515\n",
      "lowerlimit:  0.2485\n"
     ]
    }
   ],
   "source": [
    "mean = 0.2508\n",
    "sd = 0.0005\n",
    "## specification are  0.2500 ∓ 0.0015 inch.\n",
    "upper_limit = 0.2500 + 0.0015\n",
    "lower_limit = 0.2500 - 0.0015\n",
    "print(\"upperlimit: \",upper_limit)\n",
    "print(\"lowerlimit: \",lower_limit)"
   ]
  },
  {
   "cell_type": "code",
   "execution_count": 36,
   "metadata": {},
   "outputs": [
    {
     "data": {
      "text/plain": [
       "-4.6000000000000485"
      ]
     },
     "execution_count": 36,
     "metadata": {},
     "output_type": "execute_result"
    }
   ],
   "source": [
    "x1=lower_limit\n",
    "z1=(lower_limit - mean)/sd\n",
    "z1"
   ]
  },
  {
   "cell_type": "code",
   "execution_count": 37,
   "metadata": {},
   "outputs": [
    {
     "data": {
      "text/plain": [
       "1.3999999999999568"
      ]
     },
     "execution_count": 37,
     "metadata": {},
     "output_type": "execute_result"
    }
   ],
   "source": [
    "x2=upper_limit\n",
    "z2=(upper_limit-mean)/sd\n",
    "z2"
   ]
  },
  {
   "cell_type": "code",
   "execution_count": 38,
   "metadata": {},
   "outputs": [
    {
     "name": "stdout",
     "output_type": "stream",
     "text": [
      "The value of (z <= -4.6) is:  2.1124547025023565e-06\n"
     ]
    }
   ],
   "source": [
    "prob1=stats.norm.cdf(z1)\n",
    "print(\"The value of (z <= -4.6) is: \",prob1)"
   ]
  },
  {
   "cell_type": "code",
   "execution_count": 39,
   "metadata": {},
   "outputs": [
    {
     "name": "stdout",
     "output_type": "stream",
     "text": [
      "The value of (z < 1.4) is:  0.9192433407662225\n"
     ]
    }
   ],
   "source": [
    "prob2=stats.norm.cdf(z2)\n",
    "print(\"The value of (z < 1.4) is: \",prob2)"
   ]
  },
  {
   "cell_type": "code",
   "execution_count": 40,
   "metadata": {},
   "outputs": [
    {
     "name": "stdout",
     "output_type": "stream",
     "text": [
      "Therefore the probablity of P(0.2485 < X < 0.2515 ) is :  0.91924122831152\n"
     ]
    }
   ],
   "source": [
    "print(\"Therefore the probablity of P(0.2485 < X < 0.2515 ) is : \",prob2-prob1)"
   ]
  },
  {
   "cell_type": "code",
   "execution_count": null,
   "metadata": {},
   "outputs": [],
   "source": []
  },
  {
   "cell_type": "code",
   "execution_count": null,
   "metadata": {},
   "outputs": [],
   "source": []
  },
  {
   "cell_type": "code",
   "execution_count": null,
   "metadata": {},
   "outputs": [],
   "source": []
  }
 ],
 "metadata": {
  "kernelspec": {
   "display_name": "Python 3",
   "language": "python",
   "name": "python3"
  },
  "language_info": {
   "codemirror_mode": {
    "name": "ipython",
    "version": 3
   },
   "file_extension": ".py",
   "mimetype": "text/x-python",
   "name": "python",
   "nbconvert_exporter": "python",
   "pygments_lexer": "ipython3",
   "version": "3.8.3"
  }
 },
 "nbformat": 4,
 "nbformat_minor": 4
}
